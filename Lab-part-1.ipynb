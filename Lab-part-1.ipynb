{
 "cells": [
  {
   "cell_type": "markdown",
   "metadata": {},
   "source": [
    "# SIR epidemic model - [sensitivity analysis]\n",
    "\n",
    "In this notebook we will understand SIR epidemic model - its equations and parameters. \n",
    "Then we will perform sensitivity analysis of those parameters (with theoretical introduction)."
   ]
  },
  {
   "cell_type": "markdown",
   "metadata": {},
   "source": [
    "## SIR model\n",
    "\n",
    "`SIR` model describes dynamics of an epidemic for fixed numer of individuals (`N`) and given contact/infection rate together with mean recovery rate.  \n",
    "Our population is comprised of three groups: \n",
    "- `S` - Suspected\n",
    "- `I` - Infected\n",
    "- `R` - Recovered \n",
    "\n",
    "There's also a variant that includes those who had contact with infected person but haven't developed symptoms yet (`SEIR` with `E` - Exposed), and another variant with $\\alpha$ representing death rate caused by epidemic (coupled in $\\gamma+\\alpha$) and separate group `D` for deaths (`SIRD`).\n",
    "\n",
    "In `SIR` model where epidemic occurs in relatively short period of time we neglect birth rate and death rate (counting only non-epidemic deaths) in considered group. So we end up with two parameters: \n",
    "- $\\beta$ - contact rate (infected contacts $\\beta N$ other individuals per time step)\n",
    "- $\\gamma$ - mean recovery rate ($1/\\gamma$ days that recovery takes on average)\n",
    "\n",
    "<img src=\"https://i.ibb.co/XSgYy7w/Screenshot-2020-10-31-The-SIR-epidemic-model.png\" width=\"400\">\n",
    "\n",
    "At the end we will be interested in calculating reproduction ratio: \n",
    "$$R_0=\\frac{\\beta}{\\gamma}$$\n",
    "that will determine wheter the pandemic is in retreat ($R_0 < 1$) or in advance ($R_0 > 1$)"
   ]
  },
  {
   "cell_type": "markdown",
   "metadata": {},
   "source": [
    "Model is described with given differential equations:\n",
    "\n",
    "\\begin{align}\n",
    "\\frac{dS}{dt} & = -\\frac{\\beta SI}{N}\\\\\n",
    "\\frac{dI}{dt} & = \\frac{\\beta SI}{N} - \\gamma I \\\\\n",
    "\\frac{dR}{dt} & = \\gamma I\n",
    "\\end{align}"
   ]
  },
  {
   "cell_type": "code",
   "execution_count": null,
   "metadata": {},
   "outputs": [],
   "source": [
    "import numpy as np\n",
    "import matplotlib.pyplot as plt\n",
    "import tensorflow as tf"
   ]
  },
  {
   "cell_type": "code",
   "execution_count": null,
   "metadata": {},
   "outputs": [],
   "source": [
    "assert tf.__version__[0] == '2', 'Tensorflow 2.x version required'"
   ]
  },
  {
   "cell_type": "code",
   "execution_count": null,
   "metadata": {},
   "outputs": [],
   "source": [
    "np.random.seed(2)\n",
    "tf.random.set_seed(2)"
   ]
  },
  {
   "cell_type": "markdown",
   "metadata": {},
   "source": [
    "### Task 1: Complete equations according to formulas"
   ]
  },
  {
   "cell_type": "code",
   "execution_count": null,
   "metadata": {},
   "outputs": [],
   "source": [
    "def deriv(y, N, beta, gamma):\n",
    "    S, I, R = y\n",
    "    dSdt = ???\n",
    "    dIdt = ???\n",
    "    dRdt = ???\n",
    "    return dSdt, dIdt, dRdt"
   ]
  },
  {
   "cell_type": "markdown",
   "metadata": {},
   "source": [
    "## Euler scheme\n",
    "\n",
    "Euler scheme is a numerical procedure for integrating systems of differential equations which we will be using to solve SIR for our parameters.  \n",
    "We're looking for a solution $y(t)$ given $y'(t)=f(t,y(t))$ dynamics together with initial conditions $y(t_0)=y_0$.  \n",
    "\n",
    "With defined step size $h$ that $t_{n+1}=t_n+h$ we have formula:\n",
    "\n",
    "$$y_{n+1}=y_n+hf(t_n,y_n)$$"
   ]
  },
  {
   "cell_type": "markdown",
   "metadata": {},
   "source": [
    "### Task 2: Complete the formula for each component"
   ]
  },
  {
   "cell_type": "code",
   "execution_count": null,
   "metadata": {},
   "outputs": [],
   "source": [
    "def euler(deriv, y0, dt, steps, N, beta, gamma):\n",
    "    S0, I0, R0 = y0\n",
    "    S_result, I_result, R_result = S0, I0, R0\n",
    "    for i in range(steps-1):\n",
    "        S1, I1, R1 = ???\n",
    "        next_s, next_i, next_r = ???\n",
    "        S_result = tf.concat([S_result, next_s], axis=0)\n",
    "        I_result = tf.concat([I_result, next_i], axis=0)\n",
    "        R_result = tf.concat([R_result, next_r], axis=0)\n",
    "        S0, I0, R0 = next_s, next_i, next_r\n",
    "    return S_result, I_result, R_result"
   ]
  },
  {
   "cell_type": "markdown",
   "metadata": {},
   "source": [
    "## Example run"
   ]
  },
  {
   "cell_type": "code",
   "execution_count": null,
   "metadata": {},
   "outputs": [],
   "source": [
    "# Total population\n",
    "N = tf.constant([1000.])\n",
    "\n",
    "# Initial infected and recovered individuals\n",
    "I0, R0 = tf.constant([1.]), tf.constant([0.])\n",
    "\n",
    "# Everyone else, S0, is susceptible to infection initially\n",
    "S0 = N - I0 - R0\n",
    "\n",
    "# Initial conditions tuple\n",
    "y0 = S0, I0, R0\n",
    "\n",
    "# Contact rate (beta), and mean recovery rate (gamma), (in 1/days)\n",
    "beta, gamma = 0.4, 1./10\n",
    "\n",
    "# A grid of time points (in days)\n",
    "days = 160\n",
    "t = np.linspace(0, days, days)\n",
    "dt = 1."
   ]
  },
  {
   "cell_type": "markdown",
   "metadata": {},
   "source": [
    "### Task 3: Solve with euler scheme"
   ]
  },
  {
   "cell_type": "code",
   "execution_count": null,
   "metadata": {},
   "outputs": [],
   "source": [
    "S, I, R = euler(deriv, y0, dt, days, N, beta, gamma)"
   ]
  },
  {
   "cell_type": "code",
   "execution_count": null,
   "metadata": {},
   "outputs": [],
   "source": [
    "fig, ax = plt.subplots()\n",
    "ax.plot(t, S)\n",
    "ax.plot(t, I, color='r')\n",
    "ax.plot(t, R, color='g')\n",
    "plt.show()"
   ]
  },
  {
   "cell_type": "markdown",
   "metadata": {},
   "source": [
    "### Task 4: Custom system"
   ]
  },
  {
   "cell_type": "code",
   "execution_count": null,
   "metadata": {},
   "outputs": [],
   "source": [
    "# Copy-paste last four cells, modify `deriv` at choice"
   ]
  },
  {
   "cell_type": "markdown",
   "metadata": {},
   "source": [
    "## Sensitivity analysis\n",
    "\n",
    "In sensitivity analysis we are interested in understanding how minor changes in input space contribute to output results for our black-box model defined as a continous scalar function $\\phi: \\mathbb{R}^p \\to \\mathbb{R}$.  \n",
    "\n",
    "Sensitivity analysis methods help us identify influential paremeters. There are global SA methods that compute sensitivity for whole input space, and local SA methods that perform it for given subarea. Both are widely used in physics, finance and engineering. \n",
    "\n",
    "### Global SA\n",
    "\n",
    "Global methods compute indices considering whole input spaces. Example of global method is Sobol Method (also referred as Variance-based sensitivity analysis) which decomposes output variance into orthogonal terms that are used to compute e.g. first-order sensitivity indices.\n",
    "\n",
    "(https://en.wikipedia.org/wiki/Variance-based_sensitivity_analysis)\n",
    "\n",
    "Estimates are computed with generated samples - whole process can be performed with SALib python library.\n",
    "\n",
    "### Local SA\n",
    "\n",
    "In local methods we do SA for given point in input space. To expand it for whole input space we heve e.g. Morris Method (global method) that performs a walk through input space and averages results.\n",
    "Here we will be implementing:\n",
    "- finite differences method (central difference estimator variant):\n",
    "\n",
    "$$\\Delta_C = \\frac{Y(\\theta + h) - Y(\\theta - h)}{2h}$$\n",
    "\n",
    "- adjoint method:\n",
    "\n",
    "$$\\Delta = \\frac{\\partial Y}{\\partial \\beta}(t, \\beta, \\gamma)$$\n",
    "\n",
    "We will perform forward solve and then backpropagate through solver."
   ]
  },
  {
   "cell_type": "code",
   "execution_count": null,
   "metadata": {},
   "outputs": [],
   "source": [
    "def model_I(deriv, y0, dt, steps, N, beta, gamma):\n",
    "    _, I, _ = euler(deriv, y0, dt, steps, N, beta, gamma)\n",
    "    return I[:,None,None]"
   ]
  },
  {
   "cell_type": "code",
   "execution_count": null,
   "metadata": {},
   "outputs": [],
   "source": [
    "h = 0.001\n",
    "beta, gamma = tf.constant([0.4]), 1./10"
   ]
  },
  {
   "cell_type": "markdown",
   "metadata": {},
   "source": [
    "### Task 4: Implement finite difference method (central variant)"
   ]
  },
  {
   "cell_type": "code",
   "execution_count": null,
   "metadata": {},
   "outputs": [],
   "source": [
    "res1 = model_I(deriv, y0, dt, days, N, beta + h, gamma)\n",
    "res2 = model_I(deriv, y0, dt, days, N, beta - h, gamma)\n",
    "\n",
    "??? # use tf.reduce_sum"
   ]
  },
  {
   "cell_type": "code",
   "execution_count": null,
   "metadata": {},
   "outputs": [],
   "source": [
    "with tf.GradientTape() as g:\n",
    "    g.watch(beta)\n",
    "    I = model_I(deriv, y0, dt, days, N, beta, gamma)\n",
    "dI_dbeta = g.gradient(I, beta)"
   ]
  },
  {
   "cell_type": "code",
   "execution_count": null,
   "metadata": {
    "scrolled": true
   },
   "outputs": [],
   "source": [
    "dI_dbeta[0]"
   ]
  },
  {
   "cell_type": "markdown",
   "metadata": {},
   "source": [
    "### Task 5: Create plot for deltas for whole beta range"
   ]
  },
  {
   "cell_type": "code",
   "execution_count": null,
   "metadata": {
    "scrolled": false
   },
   "outputs": [],
   "source": [
    "deltas = []\n",
    "space = np.linspace(0.0, 0.4, 50)\n",
    "for beta in space:\n",
    "    beta = tf.constant([beta], dtype=tf.float32)\n",
    "    with tf.GradientTape() as g:\n",
    "        g.watch(beta)\n",
    "        I = model_I(deriv, y0, dt, days, N, beta, gamma)\n",
    "    dI_dβ = g.gradient(I, beta)[0].numpy()\n",
    "    deltas.append(dI_dβ)"
   ]
  },
  {
   "cell_type": "code",
   "execution_count": null,
   "metadata": {
    "scrolled": false
   },
   "outputs": [],
   "source": [
    "fig, ax = plt.subplots()\n",
    "ax.plot(space, deltas)\n",
    "plt.xlabel('beta')"
   ]
  },
  {
   "cell_type": "markdown",
   "metadata": {},
   "source": [
    "## SALib\n",
    "\n",
    "`SALib` provides us with global sensitivity methods. Here we will use Sobol Analysis method."
   ]
  },
  {
   "cell_type": "code",
   "execution_count": null,
   "metadata": {},
   "outputs": [],
   "source": [
    "from SALib.sample import saltelli\n",
    "from SALib.analyze import sobol"
   ]
  },
  {
   "cell_type": "code",
   "execution_count": null,
   "metadata": {},
   "outputs": [],
   "source": [
    "problem = {\n",
    "    'num_vars': 2,\n",
    "    'names': ['beta', 'gamma'],\n",
    "    'bounds': [[0.0, 0.4], [1./18, 1./8]]\n",
    "}"
   ]
  },
  {
   "cell_type": "code",
   "execution_count": null,
   "metadata": {},
   "outputs": [],
   "source": [
    "param_values = saltelli.sample(problem, 100, calc_second_order=False)"
   ]
  },
  {
   "cell_type": "code",
   "execution_count": null,
   "metadata": {
    "scrolled": false
   },
   "outputs": [],
   "source": [
    "plt.scatter(param_values[:,0], param_values[:,1])"
   ]
  },
  {
   "cell_type": "code",
   "execution_count": null,
   "metadata": {},
   "outputs": [],
   "source": [
    "Y = np.zeros([param_values.shape[0]])\n",
    "\n",
    "for i, (beta, gamma) in enumerate(param_values):\n",
    "    Y[i] = tf.reduce_sum(model_I(deriv, y0, dt, days, N, beta, gamma))"
   ]
  },
  {
   "cell_type": "code",
   "execution_count": null,
   "metadata": {},
   "outputs": [],
   "source": [
    "Si = sobol.analyze(problem, Y, calc_second_order=False)"
   ]
  },
  {
   "cell_type": "code",
   "execution_count": null,
   "metadata": {
    "scrolled": true
   },
   "outputs": [],
   "source": [
    "Si"
   ]
  }
 ],
 "metadata": {
  "kernelspec": {
   "display_name": "Python 3",
   "language": "python",
   "name": "python3"
  },
  "language_info": {
   "codemirror_mode": {
    "name": "ipython",
    "version": 3
   },
   "file_extension": ".py",
   "mimetype": "text/x-python",
   "name": "python",
   "nbconvert_exporter": "python",
   "pygments_lexer": "ipython3",
   "version": "3.8.6"
  }
 },
 "nbformat": 4,
 "nbformat_minor": 4
}
