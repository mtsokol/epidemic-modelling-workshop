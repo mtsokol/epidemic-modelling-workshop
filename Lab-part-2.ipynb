{
 "cells": [
  {
   "cell_type": "markdown",
   "metadata": {},
   "source": [
    "# SIR epidemic model - [data assimilation]\n",
    "\n",
    "This notebook is the second part of inspecting SIR epidemic model. \n",
    "Here we will perform epidemic data assimilation with proposed numerical model using manually implemented 4D-Var method in TensorFlow."
   ]
  },
  {
   "cell_type": "markdown",
   "metadata": {},
   "source": [
    "## 4D-Var method\n",
    "\n",
    "Data assimilation is the process of optimizint the fit between gathered data and some prior (theoretical or based on previous measure).\n",
    "\n",
    "`4D-Var` is one of the methods for data assimilation - it widely used for weather forecast as a successor of `3D-Var` method. \n",
    "\n",
    "<img src=\"https://i.ibb.co/sWLCYSK/Andersson-NL115-figure-1-box-754px.png\" width=\"400\">\n",
    "\n",
    "`4D-Var` loss for $x$ model parameters is defined:\n",
    "\n",
    "$$J(x) = (x-x_b)^T \\boldsymbol{B}^{-1} (x-x_b) + \\sum_{i=0}^{n}(y_i-\\mathcal{H}_i(x_i))^T \\boldsymbol{R}_i^{-1} (y_i-\\mathcal{H}_i(x_i))$$\n",
    "\n",
    "where: \n",
    "- $x_b$ - our prior parameters\n",
    "- $\\boldsymbol{B}$ - a background error covariance\n",
    "- $\\boldsymbol{R}$ - a observational error covariance\n",
    "- $y$ - observation data\n",
    "- $\\mathcal{H}$ - operator that transforms input space vector into output space\n",
    "\n",
    "`3D-Var` method assumed that all observed data happened at one fixed point of time for given assimilation window. So when performing DA for weather conditions four times a day a six hours  time span is considered as one point in time. As we know weather conditions can change through time so `4D-Var` introduced time dimension to count in temporal changes. "
   ]
  },
  {
   "cell_type": "code",
   "execution_count": 1,
   "metadata": {},
   "outputs": [],
   "source": [
    "import numpy as np\n",
    "import matplotlib.pyplot as plt\n",
    "import tensorflow as tf"
   ]
  },
  {
   "cell_type": "code",
   "execution_count": 2,
   "metadata": {},
   "outputs": [],
   "source": [
    "assert tf.__version__[0] == '2', \"Tensorflow 2.x version required\""
   ]
  },
  {
   "cell_type": "markdown",
   "metadata": {},
   "source": [
    "### Task 1: Complete equations according to formulas"
   ]
  },
  {
   "cell_type": "code",
   "execution_count": 3,
   "metadata": {},
   "outputs": [],
   "source": [
    "def deriv(y, N, beta, gamma):\n",
    "    S, I, R = y\n",
    "    dSdt = -beta * S * I / N\n",
    "    dIdt = beta * S * I / N - gamma * I\n",
    "    dRdt = gamma * I\n",
    "    return dSdt, dIdt, dRdt"
   ]
  },
  {
   "cell_type": "markdown",
   "metadata": {},
   "source": [
    "### Task 2: Complete the formula for each component\n",
    "\n",
    "Hint: For accumulating results use `tf.concat`"
   ]
  },
  {
   "cell_type": "code",
   "execution_count": 4,
   "metadata": {},
   "outputs": [],
   "source": [
    "def euler(deriv, y0, dt, steps, N, beta, gamma):\n",
    "    S0, I0, R0 = y0\n",
    "    S_result, I_result, R_result = S0, I0, R0\n",
    "    for i in range(steps-1):\n",
    "        S1, I1, R1 = deriv((S0, I0, R0), N, beta, gamma)\n",
    "        next_s, next_i, next_r = S0 + dt*S1, I0 + dt*I1, R0 + dt*R1\n",
    "        S_result = tf.concat([S_result, next_s], axis=0)\n",
    "        I_result = tf.concat([I_result, next_i], axis=0)\n",
    "        R_result = tf.concat([R_result, next_r], axis=0)\n",
    "        S0, I0, R0 = next_s, next_i, next_r\n",
    "    return S_result, I_result, R_result"
   ]
  },
  {
   "cell_type": "code",
   "execution_count": 5,
   "metadata": {},
   "outputs": [],
   "source": [
    "# Total population\n",
    "N = tf.constant([1000.])\n",
    "\n",
    "# Initial infected and recovered individuals\n",
    "I0, R0 = tf.constant([1.]), tf.constant([0.])\n",
    "\n",
    "# Everyone else, S0, is susceptible to infection initially\n",
    "S0 = N - I0 - R0\n",
    "\n",
    "# Initial conditions tuple\n",
    "y0 = S0, I0, R0\n",
    "\n",
    "# A grid of time points (in days)\n",
    "days = 160\n",
    "t = np.linspace(0, days, days)\n",
    "dt = 1."
   ]
  },
  {
   "cell_type": "code",
   "execution_count": 6,
   "metadata": {},
   "outputs": [],
   "source": [
    "prediction = tf.constant([[0.2],[0.1]])\n",
    "prior = tf.constant([[0.4],[0.1]])\n",
    "B_inv = tf.eye(2)\n",
    "R_inv = tf.eye(1)"
   ]
  },
  {
   "cell_type": "code",
   "execution_count": 7,
   "metadata": {},
   "outputs": [],
   "source": [
    "def model_I(deriv, y0, dt, steps, N, beta, gamma):\n",
    "    _, I, _ = euler(deriv, y0, dt, steps, N, beta, gamma)\n",
    "    return I[:,None,None]"
   ]
  },
  {
   "cell_type": "code",
   "execution_count": 8,
   "metadata": {},
   "outputs": [],
   "source": [
    "def model_x(x_pred):\n",
    "    return model_I(deriv, y0, dt, days, N, x_pred[0,0], x_pred[1,0])"
   ]
  },
  {
   "cell_type": "code",
   "execution_count": 9,
   "metadata": {},
   "outputs": [],
   "source": [
    "raw = model_x(prediction)\n",
    "data = model_x(prior) * 2.\n",
    "y = data"
   ]
  },
  {
   "cell_type": "code",
   "execution_count": 10,
   "metadata": {},
   "outputs": [],
   "source": [
    "class MyModel(tf.keras.Model):\n",
    "\n",
    "    def __init__(self):\n",
    "        super(MyModel, self).__init__()\n",
    "        self.params = tf.Variable([[0.2],[0.1]])\n",
    "\n",
    "    def call(self, inputs, training=False):\n",
    "        return self.params"
   ]
  },
  {
   "cell_type": "code",
   "execution_count": 11,
   "metadata": {
    "scrolled": true
   },
   "outputs": [
    {
     "data": {
      "text/plain": [
       "[<tf.Variable 'Variable:0' shape=(2, 1) dtype=float32, numpy=\n",
       " array([[0.2],\n",
       "        [0.1]], dtype=float32)>]"
      ]
     },
     "execution_count": 11,
     "metadata": {},
     "output_type": "execute_result"
    }
   ],
   "source": [
    "model = MyModel()\n",
    "model.weights"
   ]
  },
  {
   "cell_type": "markdown",
   "metadata": {},
   "source": [
    "### Task 3: Complete the loss function according to the formula\n",
    "\n",
    "Hint: You should use `tf.transpose` and `tf.reduce_sum`"
   ]
  },
  {
   "cell_type": "code",
   "execution_count": 12,
   "metadata": {},
   "outputs": [],
   "source": [
    "# (batch_size, rows, cols)\n",
    "def custom_loss(prior, x_pred):\n",
    "    custom_loss = tf.transpose(x_pred-prior) @ B_inv @ (x_pred-prior) + \\\n",
    "      tf.reduce_sum(tf.transpose(y-model_x(x_pred),perm=[0,2,1]) @ R_inv @ (y-model_x(x_pred)))\n",
    "    return custom_loss"
   ]
  },
  {
   "cell_type": "code",
   "execution_count": 13,
   "metadata": {},
   "outputs": [],
   "source": [
    "model.compile(\n",
    "    optimizer=tf.optimizers.Adam(learning_rate=0.01),\n",
    "    loss=custom_loss)"
   ]
  },
  {
   "cell_type": "code",
   "execution_count": 14,
   "metadata": {
    "scrolled": false
   },
   "outputs": [
    {
     "name": "stdout",
     "output_type": "stream",
     "text": [
      "Epoch 1/60\n",
      "1/1 [==============================] - 0s 1ms/step - loss: 10199072.0000\n",
      "Epoch 2/60\n",
      "1/1 [==============================] - 0s 820us/step - loss: 9774596.0000\n",
      "Epoch 3/60\n",
      "1/1 [==============================] - 0s 905us/step - loss: 9171583.0000\n",
      "Epoch 4/60\n",
      "1/1 [==============================] - 0s 760us/step - loss: 8425518.0000\n",
      "Epoch 5/60\n",
      "1/1 [==============================] - 0s 961us/step - loss: 7623182.0000\n",
      "Epoch 6/60\n",
      "1/1 [==============================] - 0s 875us/step - loss: 6919151.5000\n",
      "Epoch 7/60\n",
      "1/1 [==============================] - 0s 835us/step - loss: 6231320.0000\n",
      "Epoch 8/60\n",
      "1/1 [==============================] - 0s 954us/step - loss: 5419184.5000\n",
      "Epoch 9/60\n",
      "1/1 [==============================] - 0s 762us/step - loss: 4653389.0000\n",
      "Epoch 10/60\n",
      "1/1 [==============================] - 0s 987us/step - loss: 4001139.5000\n",
      "Epoch 11/60\n",
      "1/1 [==============================] - 0s 882us/step - loss: 3424008.7500\n",
      "Epoch 12/60\n",
      "1/1 [==============================] - 0s 752us/step - loss: 2882583.0000\n",
      "Epoch 13/60\n",
      "1/1 [==============================] - 0s 931us/step - loss: 2380527.0000\n",
      "Epoch 14/60\n",
      "1/1 [==============================] - 0s 758us/step - loss: 1946514.5000\n",
      "Epoch 15/60\n",
      "1/1 [==============================] - 0s 978us/step - loss: 1606667.6250\n",
      "Epoch 16/60\n",
      "1/1 [==============================] - 0s 877us/step - loss: 1353841.1250\n",
      "Epoch 17/60\n",
      "1/1 [==============================] - 0s 762us/step - loss: 1144553.3750\n",
      "Epoch 18/60\n",
      "1/1 [==============================] - 0s 1ms/step - loss: 959388.2500\n",
      "Epoch 19/60\n",
      "1/1 [==============================] - 0s 797us/step - loss: 817527.9375\n",
      "Epoch 20/60\n",
      "1/1 [==============================] - 0s 799us/step - loss: 729578.5625\n",
      "Epoch 21/60\n",
      "1/1 [==============================] - 0s 762us/step - loss: 681436.6250\n",
      "Epoch 22/60\n",
      "1/1 [==============================] - 0s 981us/step - loss: 651919.1250\n",
      "Epoch 23/60\n",
      "1/1 [==============================] - 0s 870us/step - loss: 629124.8125\n",
      "Epoch 24/60\n",
      "1/1 [==============================] - 0s 937us/step - loss: 613137.7500\n",
      "Epoch 25/60\n",
      "1/1 [==============================] - 0s 837us/step - loss: 610326.8125\n",
      "Epoch 26/60\n",
      "1/1 [==============================] - 0s 974us/step - loss: 623848.6250\n",
      "Epoch 27/60\n",
      "1/1 [==============================] - 0s 907us/step - loss: 645867.5625\n",
      "Epoch 28/60\n",
      "1/1 [==============================] - 0s 966us/step - loss: 663490.1875\n",
      "Epoch 29/60\n",
      "1/1 [==============================] - 0s 1ms/step - loss: 674574.2500\n",
      "Epoch 30/60\n",
      "1/1 [==============================] - 0s 770us/step - loss: 687073.5625\n",
      "Epoch 31/60\n",
      "1/1 [==============================] - 0s 997us/step - loss: 704883.1250\n",
      "Epoch 32/60\n",
      "1/1 [==============================] - 0s 1ms/step - loss: 723571.6250\n",
      "Epoch 33/60\n",
      "1/1 [==============================] - 0s 857us/step - loss: 737151.8125\n",
      "Epoch 34/60\n",
      "1/1 [==============================] - 0s 815us/step - loss: 744284.9375\n",
      "Epoch 35/60\n",
      "1/1 [==============================] - 0s 787us/step - loss: 748521.8125\n",
      "Epoch 36/60\n",
      "1/1 [==============================] - 0s 1ms/step - loss: 753856.6875\n",
      "Epoch 37/60\n",
      "1/1 [==============================] - 0s 987us/step - loss: 759775.5000\n",
      "Epoch 38/60\n",
      "1/1 [==============================] - 0s 733us/step - loss: 761965.0625\n",
      "Epoch 39/60\n",
      "1/1 [==============================] - 0s 782us/step - loss: 758855.8750\n",
      "Epoch 40/60\n",
      "1/1 [==============================] - 0s 1ms/step - loss: 753766.1250\n",
      "Epoch 41/60\n",
      "1/1 [==============================] - 0s 931us/step - loss: 749555.5000\n",
      "Epoch 42/60\n",
      "1/1 [==============================] - 0s 1ms/step - loss: 745271.3750\n",
      "Epoch 43/60\n",
      "1/1 [==============================] - 0s 831us/step - loss: 738585.6250\n",
      "Epoch 44/60\n",
      "1/1 [==============================] - 0s 881us/step - loss: 729178.1250\n",
      "Epoch 45/60\n",
      "1/1 [==============================] - 0s 908us/step - loss: 719015.7500\n",
      "Epoch 46/60\n",
      "1/1 [==============================] - 0s 913us/step - loss: 709872.9375\n",
      "Epoch 47/60\n",
      "1/1 [==============================] - 0s 807us/step - loss: 701238.7500\n",
      "Epoch 48/60\n",
      "1/1 [==============================] - 0s 782us/step - loss: 691510.0000\n",
      "Epoch 49/60\n",
      "1/1 [==============================] - 0s 809us/step - loss: 680772.0000\n",
      "Epoch 50/60\n",
      "1/1 [==============================] - 0s 753us/step - loss: 670675.3750\n",
      "Epoch 51/60\n",
      "1/1 [==============================] - 0s 831us/step - loss: 661990.6875\n",
      "Epoch 52/60\n",
      "1/1 [==============================] - 0s 844us/step - loss: 653943.3750\n",
      "Epoch 53/60\n",
      "1/1 [==============================] - 0s 841us/step - loss: 645766.6875\n",
      "Epoch 54/60\n",
      "1/1 [==============================] - 0s 770us/step - loss: 637853.8125\n",
      "Epoch 55/60\n",
      "1/1 [==============================] - 0s 865us/step - loss: 631147.6250\n",
      "Epoch 56/60\n",
      "1/1 [==============================] - 0s 840us/step - loss: 625821.1250\n",
      "Epoch 57/60\n",
      "1/1 [==============================] - 0s 771us/step - loss: 621157.0625\n",
      "Epoch 58/60\n",
      "1/1 [==============================] - 0s 829us/step - loss: 616765.3750\n",
      "Epoch 59/60\n",
      "1/1 [==============================] - 0s 757us/step - loss: 613114.8750\n",
      "Epoch 60/60\n",
      "1/1 [==============================] - 0s 821us/step - loss: 610626.3750\n"
     ]
    },
    {
     "data": {
      "text/plain": [
       "<tensorflow.python.keras.callbacks.History at 0x13ea06160>"
      ]
     },
     "execution_count": 14,
     "metadata": {},
     "output_type": "execute_result"
    }
   ],
   "source": [
    "model.fit(prior, prior, epochs=60, batch_size=2)"
   ]
  },
  {
   "cell_type": "markdown",
   "metadata": {},
   "source": [
    "## Plotting"
   ]
  },
  {
   "cell_type": "code",
   "execution_count": 15,
   "metadata": {
    "scrolled": false
   },
   "outputs": [
    {
     "data": {
      "text/plain": [
       "<matplotlib.collections.PathCollection at 0x1432cd340>"
      ]
     },
     "execution_count": 15,
     "metadata": {},
     "output_type": "execute_result"
    },
    {
     "data": {
      "image/png": "[encoded data removed]",
      "text/plain": [
       "<Figure size 432x288 with 1 Axes>"
      ]
     },
     "metadata": {
      "needs_background": "light"
     },
     "output_type": "display_data"
    }
   ],
   "source": [
    "fig, ax = plt.subplots()\n",
    "ax.plot(t, tf.squeeze(model_x(prior)))\n",
    "ax.plot(t, tf.squeeze(model_x(model.weights[0])), color='r')\n",
    "ax.plot(t, tf.squeeze(raw), color='g')\n",
    "ax.scatter(t, tf.squeeze(y))"
   ]
  },
  {
   "cell_type": "code",
   "execution_count": 16,
   "metadata": {},
   "outputs": [
    {
     "data": {
      "text/plain": [
       "[<tf.Variable 'Variable:0' shape=(2, 1) dtype=float32, numpy=\n",
       " array([[0.4112596 ],\n",
       "        [0.04909941]], dtype=float32)>]"
      ]
     },
     "execution_count": 16,
     "metadata": {},
     "output_type": "execute_result"
    }
   ],
   "source": [
    "model.weights"
   ]
  },
  {
   "cell_type": "markdown",
   "metadata": {},
   "source": [
    "### Task 3: Perform epidemic prediction, find params that won't exceed health system capacity"
   ]
  },
  {
   "cell_type": "code",
   "execution_count": 17,
   "metadata": {},
   "outputs": [
    {
     "data": {
      "text/plain": [
       "Ellipsis"
      ]
     },
     "execution_count": 17,
     "metadata": {},
     "output_type": "execute_result"
    }
   ],
   "source": [
    "..."
   ]
  },
  {
   "cell_type": "markdown",
   "metadata": {},
   "source": [
    "### Task 4: Considering lockdown level for that time estimate restrictions beta value, propose 3 other lockdown methods and assume their beta level (e.g. curfew)"
   ]
  },
  {
   "cell_type": "code",
   "execution_count": 18,
   "metadata": {},
   "outputs": [
    {
     "data": {
      "text/plain": [
       "Ellipsis"
      ]
     },
     "execution_count": 18,
     "metadata": {},
     "output_type": "execute_result"
    }
   ],
   "source": [
    "..."
   ]
  }
 ],
 "metadata": {
  "kernelspec": {
   "display_name": "Python 3",
   "language": "python",
   "name": "python3"
  },
  "language_info": {
   "codemirror_mode": {
    "name": "ipython",
    "version": 3
   },
   "file_extension": ".py",
   "mimetype": "text/x-python",
   "name": "python",
   "nbconvert_exporter": "python",
   "pygments_lexer": "ipython3",
   "version": "3.8.5"
  }
 },
 "nbformat": 4,
 "nbformat_minor": 4
}
