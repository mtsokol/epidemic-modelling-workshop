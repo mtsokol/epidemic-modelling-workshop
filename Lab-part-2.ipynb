{
  "nbformat": 4,
  "nbformat_minor": 0,
  "metadata": {
    "kernelspec": {
      "display_name": "Python 3",
      "language": "python",
      "name": "python3"
    },
    "language_info": {
      "codemirror_mode": {
        "name": "ipython",
        "version": 3
      },
      "file_extension": ".py",
      "mimetype": "text/x-python",
      "name": "python",
      "nbconvert_exporter": "python",
      "pygments_lexer": "ipython3",
      "version": "3.7.1"
    },
    "colab": {
      "name": "Lab-part-2.ipynb",
      "provenance": [],
      "toc_visible": true
    },
    "accelerator": "GPU"
  },
  "cells": [
    {
      "cell_type": "markdown",
      "metadata": {
        "id": "YWa2nHPPhVXP"
      },
      "source": [
        "# SIR epidemic model - [data assimilation]\n",
        "\n",
        "This notebook is the second part of inspecting SIR epidemic model. \n",
        "Here we will perform epidemic data assimilation with proposed numerical model using manually implemented 4D-Var method in TensorFlow."
      ]
    },
    {
      "cell_type": "markdown",
      "metadata": {
        "id": "jxcqgv3UhVXb"
      },
      "source": [
        "## 4D-Var method\n",
        "\n",
        "Data assimilation is the process of optimizint the fit between gathered data and some prior (theoretical or based on previous measure).\n",
        "\n",
        "`4D-Var` is one of the methods for data assimilation - it widely used for weather forecast as a successor of `3D-Var` method. \n",
        "\n",
        "<img src=\"https://i.ibb.co/sWLCYSK/Andersson-NL115-figure-1-box-754px.png\" width=\"400\">\n",
        "\n",
        "`4D-Var` loss for $x$ model parameters is defined:\n",
        "\n",
        "$$J(x) = (x-x_b)^T \\boldsymbol{B}^{-1} (x-x_b) + \\sum_{i=0}^{n}(y_i-\\mathcal{H}_i(x_i))^T \\boldsymbol{R}_i^{-1} (y_i-\\mathcal{H}_i(x_i))$$\n",
        "\n",
        "where: \n",
        "- $x_b$ - our prior parameters\n",
        "- $\\boldsymbol{B}$ - a background error covariance\n",
        "- $\\boldsymbol{R}$ - a observational error covariance\n",
        "- $y$ - observation data\n",
        "- $\\mathcal{H}$ - operator that transforms input space vector into output space\n",
        "\n",
        "`3D-Var` method assumed that all observed data happened at one fixed point of time for given assimilation window. So when performing DA for weather conditions four times a day a six hours  time span is considered as one point in time. As we know weather conditions can change through time so `4D-Var` introduced time dimension to count in temporal changes. "
      ]
    },
    {
      "cell_type": "code",
      "metadata": {
        "id": "8g1_KGGChVXh"
      },
      "source": [
        "import numpy as np\n",
        "import matplotlib.pyplot as plt\n",
        "import tensorflow as tf\n",
        "import pandas as pd"
      ],
      "execution_count": 1,
      "outputs": []
    },
    {
      "cell_type": "code",
      "metadata": {
        "id": "Z5KGi_B4hVYO"
      },
      "source": [
        "assert tf.__version__[0] == '2', \"Tensorflow 2.x version required\""
      ],
      "execution_count": 2,
      "outputs": []
    },
    {
      "cell_type": "code",
      "metadata": {
        "id": "JUjsaU8xhVYq"
      },
      "source": [
        "np.random.seed(2)\n",
        "tf.random.set_seed(2)"
      ],
      "execution_count": 3,
      "outputs": []
    },
    {
      "cell_type": "markdown",
      "metadata": {
        "id": "yjdyKip-hVZN"
      },
      "source": [
        "### Task 1: Complete equations according to formulas"
      ]
    },
    {
      "cell_type": "code",
      "metadata": {
        "id": "WMz1X2TnhVZR"
      },
      "source": [
        "def deriv(y, N, beta, gamma):\n",
        "    S, I, R = y\n",
        "    dSdt = -beta * S * I / N\n",
        "    dIdt = beta * S * I / N - gamma * I\n",
        "    dRdt = gamma * I\n",
        "    return dSdt, dIdt, dRdt"
      ],
      "execution_count": 4,
      "outputs": []
    },
    {
      "cell_type": "markdown",
      "metadata": {
        "id": "WI7wC9V_hVZv"
      },
      "source": [
        "### Task 2: Complete the formula for each component\n",
        "\n",
        "Hint: For accumulating results use `tf.concat`"
      ]
    },
    {
      "cell_type": "code",
      "metadata": {
        "id": "uTaglbljhVZ0"
      },
      "source": [
        "def euler(deriv, y0, dt, steps, N, beta, gamma):\n",
        "    S0, I0, R0 = y0\n",
        "    S_result, I_result, R_result = S0, I0, R0\n",
        "    for i in range(steps-1):\n",
        "        S1, I1, R1 = deriv((S0, I0, R0), N, beta, gamma)\n",
        "        next_s, next_i, next_r = S0 + dt*S1, I0 + dt*I1, R0 + dt*R1\n",
        "        S_result = tf.concat([S_result, next_s], axis=0)\n",
        "        I_result = tf.concat([I_result, next_i], axis=0)\n",
        "        R_result = tf.concat([R_result, next_r], axis=0)\n",
        "        S0, I0, R0 = next_s, next_i, next_r\n",
        "    return S_result, I_result, R_result"
      ],
      "execution_count": 5,
      "outputs": []
    },
    {
      "cell_type": "code",
      "metadata": {
        "id": "BuyvGHZuhVaV"
      },
      "source": [
        "# Total population\n",
        "N = tf.constant([1000.])\n",
        "\n",
        "# Initial infected and recovered individuals\n",
        "I0, R0 = tf.constant([1.]), tf.constant([0.])\n",
        "\n",
        "# Everyone else, S0, is susceptible to infection initially\n",
        "S0 = N - I0 - R0\n",
        "\n",
        "# Initial conditions tuple\n",
        "y0 = S0, I0, R0\n",
        "\n",
        "# A grid of time points (in days)\n",
        "days = 160\n",
        "t = np.linspace(0, days, days)\n",
        "dt = 1."
      ],
      "execution_count": 6,
      "outputs": []
    },
    {
      "cell_type": "code",
      "metadata": {
        "id": "WSFqca1_hVbQ"
      },
      "source": [
        "prediction = tf.constant([[0.2],[0.1]])\n",
        "prior = tf.constant([[0.4],[0.1]])\n",
        "B_inv = tf.eye(2)\n",
        "R_inv = tf.eye(1)"
      ],
      "execution_count": 7,
      "outputs": []
    },
    {
      "cell_type": "code",
      "metadata": {
        "id": "i0lRyt0qhVbj"
      },
      "source": [
        "def model_I(deriv, y0, dt, steps, N, beta, gamma):\n",
        "    _, I, _ = euler(deriv, y0, dt, steps, N, beta, gamma)\n",
        "    return I[:,None,None]"
      ],
      "execution_count": 8,
      "outputs": []
    },
    {
      "cell_type": "code",
      "metadata": {
        "id": "U0Hz7awYhVb5"
      },
      "source": [
        "def model_x(x_pred, horizon=70):\n",
        "    return model_I(deriv, y0, dt, days, N, x_pred[0,0], x_pred[1,0])[:horizon]"
      ],
      "execution_count": 9,
      "outputs": []
    },
    {
      "cell_type": "code",
      "metadata": {
        "id": "Mg0o1WlCjR6v",
        "outputId": "8528b4c0-4a09-48cf-f65e-394dc0d5adbb",
        "colab": {
          "base_uri": "https://localhost:8080/",
          "height": 206
        }
      },
      "source": [
        "data = pd.read_csv(\"New Zealand COVID active cases.csv\", delimiter=\";\", )\n",
        "data.head()"
      ],
      "execution_count": 18,
      "outputs": [
        {
          "output_type": "execute_result",
          "data": {
            "text/html": [
              "<div>\n",
              "<style scoped>\n",
              "    .dataframe tbody tr th:only-of-type {\n",
              "        vertical-align: middle;\n",
              "    }\n",
              "\n",
              "    .dataframe tbody tr th {\n",
              "        vertical-align: top;\n",
              "    }\n",
              "\n",
              "    .dataframe thead th {\n",
              "        text-align: right;\n",
              "    }\n",
              "</style>\n",
              "<table border=\"1\" class=\"dataframe\">\n",
              "  <thead>\n",
              "    <tr style=\"text-align: right;\">\n",
              "      <th></th>\n",
              "      <th>Date</th>\n",
              "      <th>Active cases</th>\n",
              "    </tr>\n",
              "  </thead>\n",
              "  <tbody>\n",
              "    <tr>\n",
              "      <th>0</th>\n",
              "      <td>2020-02-28</td>\n",
              "      <td>1</td>\n",
              "    </tr>\n",
              "    <tr>\n",
              "      <th>1</th>\n",
              "      <td>2020-02-29</td>\n",
              "      <td>1</td>\n",
              "    </tr>\n",
              "    <tr>\n",
              "      <th>2</th>\n",
              "      <td>2020-03-01</td>\n",
              "      <td>1</td>\n",
              "    </tr>\n",
              "    <tr>\n",
              "      <th>3</th>\n",
              "      <td>2020-03-02</td>\n",
              "      <td>1</td>\n",
              "    </tr>\n",
              "    <tr>\n",
              "      <th>4</th>\n",
              "      <td>2020-03-03</td>\n",
              "      <td>2</td>\n",
              "    </tr>\n",
              "  </tbody>\n",
              "</table>\n",
              "</div>"
            ],
            "text/plain": [
              "         Date  Active cases\n",
              "0  2020-02-28             1\n",
              "1  2020-02-29             1\n",
              "2  2020-03-01             1\n",
              "3  2020-03-02             1\n",
              "4  2020-03-03             2"
            ]
          },
          "metadata": {
            "tags": []
          },
          "execution_count": 18
        }
      ]
    },
    {
      "cell_type": "code",
      "metadata": {
        "id": "VPO4pbYWhVcM"
      },
      "source": [
        "raw = model_x(prediction, horizon=days)\n",
        "y = data.loc[:, \"Active cases\"].values"
      ],
      "execution_count": 19,
      "outputs": []
    },
    {
      "cell_type": "code",
      "metadata": {
        "id": "hgPtU-8shVcn"
      },
      "source": [
        "class MyModel(tf.keras.Model):\n",
        "\n",
        "    def __init__(self):\n",
        "        super(MyModel, self).__init__()\n",
        "        self.params = tf.Variable([[0.2],[0.1]])\n",
        "\n",
        "    def call(self, inputs, training=False):\n",
        "        return self.params"
      ],
      "execution_count": 20,
      "outputs": []
    },
    {
      "cell_type": "code",
      "metadata": {
        "scrolled": true,
        "id": "_xXIUVGRhVdB",
        "outputId": "277723a0-b78c-4563-a0f7-b328e75d495a",
        "colab": {
          "base_uri": "https://localhost:8080/"
        }
      },
      "source": [
        "model = MyModel()\n",
        "model.weights"
      ],
      "execution_count": 21,
      "outputs": [
        {
          "output_type": "execute_result",
          "data": {
            "text/plain": [
              "[<tf.Variable 'Variable:0' shape=(2, 1) dtype=float32, numpy=\n",
              " array([[0.2],\n",
              "        [0.1]], dtype=float32)>]"
            ]
          },
          "metadata": {
            "tags": []
          },
          "execution_count": 21
        }
      ]
    },
    {
      "cell_type": "markdown",
      "metadata": {
        "id": "br8UGDzwhVdX"
      },
      "source": [
        "### Task 3: Complete the loss function according to the formula\n",
        "\n",
        "Hint: You should use `tf.transpose` and `tf.reduce_sum`. In `tf.transpose` for observation part notice that first dimension is batch size"
      ]
    },
    {
      "cell_type": "markdown",
      "metadata": {
        "id": "PAxRHqUmhVdc"
      },
      "source": [
        "`4D-Var` loss for $x$ model parameters is:\n",
        "\n",
        "$$J(x) = (x-x_b)^T \\boldsymbol{B}^{-1} (x-x_b) + \\sum_{i=0}^{n}(y_i-\\mathcal{H}_i(x_i))^T \\boldsymbol{R}_i^{-1} (y_i-\\mathcal{H}_i(x_i))$$"
      ]
    },
    {
      "cell_type": "markdown",
      "metadata": {
        "id": "YxYBwW9AhVdg"
      },
      "source": [
        "With exemplary substitution it would be:\n",
        "\n",
        "\\begin{gather}\n",
        "J(x) = \n",
        "\\begin{bmatrix} x_{0} & x_{1} \\end{bmatrix} \n",
        "\\begin{bmatrix} 1 & 0 \\\\ 0 & 1 \\end{bmatrix}\n",
        "\\begin{bmatrix} x_{0} \\\\ x_{1} \\end{bmatrix}\n",
        "      +\n",
        "\\sum_{i=0}^{n}\n",
        "\\begin{bmatrix} y_{0}^i & y_{1}^i \\end{bmatrix} \n",
        "\\begin{bmatrix} 1 & 0 \\\\ 0 & 1 \\end{bmatrix}\n",
        "\\begin{bmatrix} y_{0}^i \\\\ y_{1}^i \\end{bmatrix}\n",
        "\\end{gather}"
      ]
    },
    {
      "cell_type": "code",
      "metadata": {
        "id": "pJqhn7V_hVdj"
      },
      "source": [
        "# (batch_size, rows, cols)\n",
        "def custom_loss(prior, x_pred):\n",
        "    custom_loss = tf.transpose(x_pred-prior) @ B_inv @ (x_pred-prior) + \\\n",
        "      tf.reduce_sum(tf.transpose(y-model_x(x_pred),perm=[0,2,1]) @ R_inv @ (y-model_x(x_pred)))\n",
        "    return custom_loss"
      ],
      "execution_count": 22,
      "outputs": []
    },
    {
      "cell_type": "code",
      "metadata": {
        "id": "hPKxlVnQhVdz"
      },
      "source": [
        "model.compile(\n",
        "    optimizer=tf.optimizers.Adam(learning_rate=0.01),\n",
        "    loss=custom_loss)"
      ],
      "execution_count": 23,
      "outputs": []
    },
    {
      "cell_type": "code",
      "metadata": {
        "scrolled": false,
        "id": "UWgs1XyXhVeG",
        "outputId": "753a355d-4040-48f1-f622-3fa85bc40ad1",
        "colab": {
          "base_uri": "https://localhost:8080/"
        }
      },
      "source": [
        "model.fit(prior, prior, epochs=70, batch_size=2)"
      ],
      "execution_count": 24,
      "outputs": [
        {
          "output_type": "stream",
          "text": [
            "Epoch 1/70\n",
            "1/1 [==============================] - 0s 2ms/step - loss: 27463624704.0000\n",
            "Epoch 2/70\n",
            "1/1 [==============================] - 0s 1ms/step - loss: 23099738112.0000\n",
            "Epoch 3/70\n",
            "1/1 [==============================] - 0s 852us/step - loss: 19466897408.0000\n",
            "Epoch 4/70\n",
            "1/1 [==============================] - 0s 958us/step - loss: 16892419072.0000\n",
            "Epoch 5/70\n",
            "1/1 [==============================] - 0s 902us/step - loss: 15399992320.0000\n",
            "Epoch 6/70\n",
            "1/1 [==============================] - 0s 1ms/step - loss: 14946017280.0000\n",
            "Epoch 7/70\n",
            "1/1 [==============================] - 0s 1ms/step - loss: 15364602880.0000\n",
            "Epoch 8/70\n",
            "1/1 [==============================] - 0s 905us/step - loss: 16044906496.0000\n",
            "Epoch 9/70\n",
            "1/1 [==============================] - 0s 1ms/step - loss: 16228230144.0000\n",
            "Epoch 10/70\n",
            "1/1 [==============================] - 0s 951us/step - loss: 15840789504.0000\n",
            "Epoch 11/70\n",
            "1/1 [==============================] - 0s 935us/step - loss: 15244729344.0000\n",
            "Epoch 12/70\n",
            "1/1 [==============================] - 0s 1ms/step - loss: 14742574080.0000\n",
            "Epoch 13/70\n",
            "1/1 [==============================] - 0s 998us/step - loss: 14450995200.0000\n",
            "Epoch 14/70\n",
            "1/1 [==============================] - 0s 1ms/step - loss: 14357755904.0000\n",
            "Epoch 15/70\n",
            "1/1 [==============================] - 0s 901us/step - loss: 14400215040.0000\n",
            "Epoch 16/70\n",
            "1/1 [==============================] - 0s 978us/step - loss: 14513227776.0000\n",
            "Epoch 17/70\n",
            "1/1 [==============================] - 0s 1ms/step - loss: 14647112704.0000\n",
            "Epoch 18/70\n",
            "1/1 [==============================] - 0s 1ms/step - loss: 14769736704.0000\n",
            "Epoch 19/70\n",
            "1/1 [==============================] - 0s 966us/step - loss: 14863017984.0000\n",
            "Epoch 20/70\n",
            "1/1 [==============================] - 0s 1ms/step - loss: 14918789120.0000\n",
            "Epoch 21/70\n",
            "1/1 [==============================] - 0s 966us/step - loss: 14935531520.0000\n",
            "Epoch 22/70\n",
            "1/1 [==============================] - 0s 925us/step - loss: 14916161536.0000\n",
            "Epoch 23/70\n",
            "1/1 [==============================] - 0s 1ms/step - loss: 14866667520.0000\n",
            "Epoch 24/70\n",
            "1/1 [==============================] - 0s 877us/step - loss: 14795297792.0000\n",
            "Epoch 25/70\n",
            "1/1 [==============================] - 0s 1ms/step - loss: 14711997440.0000\n",
            "Epoch 26/70\n",
            "1/1 [==============================] - 0s 1ms/step - loss: 14627877888.0000\n",
            "Epoch 27/70\n",
            "1/1 [==============================] - 0s 951us/step - loss: 14554363904.0000\n",
            "Epoch 28/70\n",
            "1/1 [==============================] - 0s 962us/step - loss: 14501794816.0000\n",
            "Epoch 29/70\n",
            "1/1 [==============================] - 0s 1ms/step - loss: 14477317120.0000\n",
            "Epoch 30/70\n",
            "1/1 [==============================] - 0s 940us/step - loss: 14482317312.0000\n",
            "Epoch 31/70\n",
            "1/1 [==============================] - 0s 1ms/step - loss: 14510422016.0000\n",
            "Epoch 32/70\n",
            "1/1 [==============================] - 0s 826us/step - loss: 14547887104.0000\n",
            "Epoch 33/70\n",
            "1/1 [==============================] - 0s 1ms/step - loss: 14577586176.0000\n",
            "Epoch 34/70\n",
            "1/1 [==============================] - 0s 2ms/step - loss: 14585918464.0000\n",
            "Epoch 35/70\n",
            "1/1 [==============================] - 0s 1ms/step - loss: 14568547328.0000\n",
            "Epoch 36/70\n",
            "1/1 [==============================] - 0s 1ms/step - loss: 14531418112.0000\n",
            "Epoch 37/70\n",
            "1/1 [==============================] - 0s 1ms/step - loss: 14486554624.0000\n",
            "Epoch 38/70\n",
            "1/1 [==============================] - 0s 884us/step - loss: 14445987840.0000\n",
            "Epoch 39/70\n",
            "1/1 [==============================] - 0s 1ms/step - loss: 14417444864.0000\n",
            "Epoch 40/70\n",
            "1/1 [==============================] - 0s 978us/step - loss: 14403092480.0000\n",
            "Epoch 41/70\n",
            "1/1 [==============================] - 0s 994us/step - loss: 14400640000.0000\n",
            "Epoch 42/70\n",
            "1/1 [==============================] - 0s 1ms/step - loss: 14405386240.0000\n",
            "Epoch 43/70\n",
            "1/1 [==============================] - 0s 1ms/step - loss: 14412163072.0000\n",
            "Epoch 44/70\n",
            "1/1 [==============================] - 0s 917us/step - loss: 14416687104.0000\n",
            "Epoch 45/70\n",
            "1/1 [==============================] - 0s 1ms/step - loss: 14416280576.0000\n",
            "Epoch 46/70\n",
            "1/1 [==============================] - 0s 1ms/step - loss: 14410112000.0000\n",
            "Epoch 47/70\n",
            "1/1 [==============================] - 0s 948us/step - loss: 14399039488.0000\n",
            "Epoch 48/70\n",
            "1/1 [==============================] - 0s 930us/step - loss: 14385175552.0000\n",
            "Epoch 49/70\n",
            "1/1 [==============================] - 0s 1ms/step - loss: 14371287040.0000\n",
            "Epoch 50/70\n",
            "1/1 [==============================] - 0s 994us/step - loss: 14360059904.0000\n",
            "Epoch 51/70\n",
            "1/1 [==============================] - 0s 919us/step - loss: 14353397760.0000\n",
            "Epoch 52/70\n",
            "1/1 [==============================] - 0s 1ms/step - loss: 14351861760.0000\n",
            "Epoch 53/70\n",
            "1/1 [==============================] - 0s 873us/step - loss: 14354524160.0000\n",
            "Epoch 54/70\n",
            "1/1 [==============================] - 0s 960us/step - loss: 14359302144.0000\n",
            "Epoch 55/70\n",
            "1/1 [==============================] - 0s 896us/step - loss: 14363740160.0000\n",
            "Epoch 56/70\n",
            "1/1 [==============================] - 0s 980us/step - loss: 14365938688.0000\n",
            "Epoch 57/70\n",
            "1/1 [==============================] - 0s 1ms/step - loss: 14365216768.0000\n",
            "Epoch 58/70\n",
            "1/1 [==============================] - 0s 932us/step - loss: 14362190848.0000\n",
            "Epoch 59/70\n",
            "1/1 [==============================] - 0s 924us/step - loss: 14358294528.0000\n",
            "Epoch 60/70\n",
            "1/1 [==============================] - 0s 1ms/step - loss: 14355062784.0000\n",
            "Epoch 61/70\n",
            "1/1 [==============================] - 0s 977us/step - loss: 14353487872.0000\n",
            "Epoch 62/70\n",
            "1/1 [==============================] - 0s 972us/step - loss: 14353767424.0000\n",
            "Epoch 63/70\n",
            "1/1 [==============================] - 0s 1ms/step - loss: 14355389440.0000\n",
            "Epoch 64/70\n",
            "1/1 [==============================] - 0s 897us/step - loss: 14357448704.0000\n",
            "Epoch 65/70\n",
            "1/1 [==============================] - 0s 1ms/step - loss: 14359066624.0000\n",
            "Epoch 66/70\n",
            "1/1 [==============================] - 0s 977us/step - loss: 14359641088.0000\n",
            "Epoch 67/70\n",
            "1/1 [==============================] - 0s 1ms/step - loss: 14359040000.0000\n",
            "Epoch 68/70\n",
            "1/1 [==============================] - 0s 1ms/step - loss: 14357526528.0000\n",
            "Epoch 69/70\n",
            "1/1 [==============================] - 0s 1ms/step - loss: 14355633152.0000\n",
            "Epoch 70/70\n",
            "1/1 [==============================] - 0s 936us/step - loss: 14353936384.0000\n"
          ],
          "name": "stdout"
        },
        {
          "output_type": "execute_result",
          "data": {
            "text/plain": [
              "<tensorflow.python.keras.callbacks.History at 0x7f81847dacf8>"
            ]
          },
          "metadata": {
            "tags": []
          },
          "execution_count": 24
        }
      ]
    },
    {
      "cell_type": "markdown",
      "metadata": {
        "id": "NEDJBrBShVeS"
      },
      "source": [
        "## Plotting"
      ]
    },
    {
      "cell_type": "code",
      "metadata": {
        "scrolled": false,
        "id": "QZ8onHV8hVeU",
        "outputId": "34033b88-315d-4b74-d338-16d392c5e432",
        "colab": {
          "base_uri": "https://localhost:8080/",
          "height": 283
        }
      },
      "source": [
        "fig, ax = plt.subplots()\n",
        "ax.plot(t, tf.squeeze(model_x(prior, horizon=days)))\n",
        "ax.plot(t, tf.squeeze(model_x(model.weights[0], horizon=days)), color='r')\n",
        "ax.plot(t, tf.squeeze(raw), color='g')\n",
        "ax.scatter(t[:70], tf.squeeze(y))"
      ],
      "execution_count": 25,
      "outputs": [
        {
          "output_type": "execute_result",
          "data": {
            "text/plain": [
              "<matplotlib.collections.PathCollection at 0x7f817ef4dcf8>"
            ]
          },
          "metadata": {
            "tags": []
          },
          "execution_count": 25
        },
        {
          "output_type": "display_data",
          "data": {
            "image/png": "[encoded data removed]",
            "text/plain": [
              "<Figure size 432x288 with 1 Axes>"
            ]
          },
          "metadata": {
            "tags": [],
            "needs_background": "light"
          }
        }
      ]
    },
    {
      "cell_type": "code",
      "metadata": {
        "id": "hE1105xshVeh",
        "outputId": "31d1a5db-4820-4716-c9d6-ee38219cff2a",
        "colab": {
          "base_uri": "https://localhost:8080/"
        }
      },
      "source": [
        "model.weights"
      ],
      "execution_count": 26,
      "outputs": [
        {
          "output_type": "execute_result",
          "data": {
            "text/plain": [
              "[<tf.Variable 'Variable:0' shape=(2, 1) dtype=float32, numpy=\n",
              " array([[0.28452402],\n",
              "        [0.05705406]], dtype=float32)>]"
            ]
          },
          "metadata": {
            "tags": []
          },
          "execution_count": 26
        }
      ]
    },
    {
      "cell_type": "markdown",
      "metadata": {
        "id": "SMAoZ4BmhVer"
      },
      "source": [
        "### Task 3: Perform epidemic prediction, find params that won't exceed health system capacity"
      ]
    },
    {
      "cell_type": "code",
      "metadata": {
        "scrolled": false,
        "id": "SA1MqkNlhVet",
        "outputId": "1ea57282-96cf-47d9-8569-8c2741b033e8",
        "colab": {
          "base_uri": "https://localhost:8080/",
          "height": 283
        }
      },
      "source": [
        "fig, ax = plt.subplots()\n",
        "health_sys_cap = 400\n",
        "ax.plot(t, tf.squeeze(model_x(model.weights[0], horizon=days)), color='r')\n",
        "ax.plot(t, [health_sys_cap for _ in t], '--k')"
      ],
      "execution_count": 28,
      "outputs": [
        {
          "output_type": "execute_result",
          "data": {
            "text/plain": [
              "[<matplotlib.lines.Line2D at 0x7f817ee5a9e8>]"
            ]
          },
          "metadata": {
            "tags": []
          },
          "execution_count": 28
        },
        {
          "output_type": "display_data",
          "data": {
            "image/png": "[encoded data removed]",
            "text/plain": [
              "<Figure size 432x288 with 1 Axes>"
            ]
          },
          "metadata": {
            "tags": [],
            "needs_background": "light"
          }
        }
      ]
    },
    {
      "cell_type": "code",
      "metadata": {
        "id": "5t6_w0-WhVe4",
        "outputId": "89dcdbd0-7e22-4a1d-ad03-b45231ce5a8d"
      },
      "source": [
        "..."
      ],
      "execution_count": null,
      "outputs": [
        {
          "output_type": "execute_result",
          "data": {
            "text/plain": [
              "Ellipsis"
            ]
          },
          "metadata": {
            "tags": []
          },
          "execution_count": 19
        }
      ]
    },
    {
      "cell_type": "markdown",
      "metadata": {
        "id": "hH-PyRtkhVfH"
      },
      "source": [
        "### Task 4: Considering lockdown level for that time estimate restrictions beta value, propose 3 other lockdown methods and assume their beta level (e.g. curfew)"
      ]
    },
    {
      "cell_type": "code",
      "metadata": {
        "id": "A7qVIEk3hVfJ",
        "outputId": "233e2b04-6ed9-495d-ee7c-7433ed6d00cd"
      },
      "source": [
        "..."
      ],
      "execution_count": null,
      "outputs": [
        {
          "output_type": "execute_result",
          "data": {
            "text/plain": [
              "Ellipsis"
            ]
          },
          "metadata": {
            "tags": []
          },
          "execution_count": 20
        }
      ]
    }
  ]
}