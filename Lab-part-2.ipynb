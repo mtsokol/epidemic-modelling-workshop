{
 "cells": [
  {
   "cell_type": "markdown",
   "metadata": {},
   "source": [
    "# SIR epidemic model - [data assimilation]\n",
    "\n",
    "This notebook is the second part of inspecting SIR epidemic model. \n",
    "Here we will perform epidemic data assimilation with proposed numerical model using manually implemented 4D-Var method in TensorFlow."
   ]
  },
  {
   "cell_type": "markdown",
   "metadata": {},
   "source": [
    "## 4D-Var method\n",
    "\n",
    "Data assimilation is the process of optimizint the fit between gathered data and some prior (theoretical or based on previous measure).\n",
    "\n",
    "`4D-Var` is one of the methods for data assimilation - it widely used for weather forecast as a successor of `3D-Var` method. \n",
    "\n",
    "<img src=\"https://i.ibb.co/sWLCYSK/Andersson-NL115-figure-1-box-754px.png\" width=\"400\">\n",
    "\n",
    "`4D-Var` loss for $x$ model parameters is defined:\n",
    "\n",
    "$$J(x) = (x-x_b)^T \\boldsymbol{B}^{-1} (x-x_b) + \\sum_{i=0}^{n}(y_i-\\mathcal{H}_i(x_i))^T \\boldsymbol{R}_i^{-1} (y_i-\\mathcal{H}_i(x_i))$$\n",
    "\n",
    "where: \n",
    "- $x_b$ - our prior parameters\n",
    "- $\\boldsymbol{B}$ - a background error covariance\n",
    "- $\\boldsymbol{R}$ - a observational error covariance\n",
    "- $y$ - observation data\n",
    "- $\\mathcal{H}$ - operator that transforms input space vector into output space\n",
    "\n",
    "`3D-Var` method assumed that all observed data happened at one fixed point of time for given assimilation window. So when performing DA for weather conditions four times a day a six hours  time span is considered as one point in time. As we know weather conditions can change through time so `4D-Var` introduced time dimension to count in temporal changes. "
   ]
  },
  {
   "cell_type": "code",
   "execution_count": 1,
   "metadata": {},
   "outputs": [],
   "source": [
    "import numpy as np\n",
    "import matplotlib.pyplot as plt\n",
    "import tensorflow as tf"
   ]
  },
  {
   "cell_type": "code",
   "execution_count": 2,
   "metadata": {},
   "outputs": [],
   "source": [
    "assert tf.__version__[0] == '2', \"Tensorflow 2.x version required\""
   ]
  },
  {
   "cell_type": "code",
   "execution_count": 3,
   "metadata": {},
   "outputs": [],
   "source": [
    "np.random.seed(2)\n",
    "tf.random.set_seed(2)"
   ]
  },
  {
   "cell_type": "markdown",
   "metadata": {},
   "source": [
    "### Task 1: Complete equations according to formulas"
   ]
  },
  {
   "cell_type": "code",
   "execution_count": 4,
   "metadata": {},
   "outputs": [],
   "source": [
    "def deriv(y, N, beta, gamma):\n",
    "    S, I, R = y\n",
    "    dSdt = -beta * S * I / N\n",
    "    dIdt = beta * S * I / N - gamma * I\n",
    "    dRdt = gamma * I\n",
    "    return dSdt, dIdt, dRdt"
   ]
  },
  {
   "cell_type": "markdown",
   "metadata": {},
   "source": [
    "### Task 2: Complete the formula for each component\n",
    "\n",
    "Hint: For accumulating results use `tf.concat`"
   ]
  },
  {
   "cell_type": "code",
   "execution_count": 5,
   "metadata": {},
   "outputs": [],
   "source": [
    "def euler(deriv, y0, dt, steps, N, beta, gamma):\n",
    "    S0, I0, R0 = y0\n",
    "    S_result, I_result, R_result = S0, I0, R0\n",
    "    for i in range(steps-1):\n",
    "        S1, I1, R1 = deriv((S0, I0, R0), N, beta, gamma)\n",
    "        next_s, next_i, next_r = S0 + dt*S1, I0 + dt*I1, R0 + dt*R1\n",
    "        S_result = tf.concat([S_result, next_s], axis=0)\n",
    "        I_result = tf.concat([I_result, next_i], axis=0)\n",
    "        R_result = tf.concat([R_result, next_r], axis=0)\n",
    "        S0, I0, R0 = next_s, next_i, next_r\n",
    "    return S_result, I_result, R_result"
   ]
  },
  {
   "cell_type": "code",
   "execution_count": 6,
   "metadata": {},
   "outputs": [],
   "source": [
    "# Total population\n",
    "N = tf.constant([1000.])\n",
    "\n",
    "# Initial infected and recovered individuals\n",
    "I0, R0 = tf.constant([1.]), tf.constant([0.])\n",
    "\n",
    "# Everyone else, S0, is susceptible to infection initially\n",
    "S0 = N - I0 - R0\n",
    "\n",
    "# Initial conditions tuple\n",
    "y0 = S0, I0, R0\n",
    "\n",
    "# A grid of time points (in days)\n",
    "days = 160\n",
    "t = np.linspace(0, days, days)\n",
    "dt = 1."
   ]
  },
  {
   "cell_type": "code",
   "execution_count": 7,
   "metadata": {},
   "outputs": [],
   "source": [
    "prediction = tf.constant([[0.2],[0.1]])\n",
    "prior = tf.constant([[0.4],[0.1]])\n",
    "B_inv = tf.eye(2)\n",
    "R_inv = tf.eye(1)"
   ]
  },
  {
   "cell_type": "code",
   "execution_count": 8,
   "metadata": {},
   "outputs": [],
   "source": [
    "def model_I(deriv, y0, dt, steps, N, beta, gamma):\n",
    "    _, I, _ = euler(deriv, y0, dt, steps, N, beta, gamma)\n",
    "    return I[:,None,None]"
   ]
  },
  {
   "cell_type": "code",
   "execution_count": 9,
   "metadata": {},
   "outputs": [],
   "source": [
    "def model_x(x_pred, horizon=70):\n",
    "    return model_I(deriv, y0, dt, days, N, x_pred[0,0], x_pred[1,0])[:horizon]"
   ]
  },
  {
   "cell_type": "code",
   "execution_count": 10,
   "metadata": {},
   "outputs": [],
   "source": [
    "raw = model_x(prediction, horizon=days)\n",
    "data = model_x(prior) * 2.\n",
    "y = data"
   ]
  },
  {
   "cell_type": "code",
   "execution_count": 11,
   "metadata": {},
   "outputs": [],
   "source": [
    "class MyModel(tf.keras.Model):\n",
    "\n",
    "    def __init__(self):\n",
    "        super(MyModel, self).__init__()\n",
    "        self.params = tf.Variable([[0.2],[0.1]])\n",
    "\n",
    "    def call(self, inputs, training=False):\n",
    "        return self.params"
   ]
  },
  {
   "cell_type": "code",
   "execution_count": 12,
   "metadata": {
    "scrolled": true
   },
   "outputs": [
    {
     "data": {
      "text/plain": [
       "[<tf.Variable 'Variable:0' shape=(2, 1) dtype=float32, numpy=\n",
       " array([[0.2],\n",
       "        [0.1]], dtype=float32)>]"
      ]
     },
     "execution_count": 12,
     "metadata": {},
     "output_type": "execute_result"
    }
   ],
   "source": [
    "model = MyModel()\n",
    "model.weights"
   ]
  },
  {
   "cell_type": "markdown",
   "metadata": {},
   "source": [
    "### Task 3: Complete the loss function according to the formula\n",
    "\n",
    "Hint: You should use `tf.transpose` and `tf.reduce_sum`. In `tf.transpose` for observation part notice that first dimension is batch size"
   ]
  },
  {
   "cell_type": "markdown",
   "metadata": {},
   "source": [
    "`4D-Var` loss for $x$ model parameters is:\n",
    "\n",
    "$$J(x) = (x-x_b)^T \\boldsymbol{B}^{-1} (x-x_b) + \\sum_{i=0}^{n}(y_i-\\mathcal{H}_i(x_i))^T \\boldsymbol{R}_i^{-1} (y_i-\\mathcal{H}_i(x_i))$$"
   ]
  },
  {
   "cell_type": "markdown",
   "metadata": {},
   "source": [
    "With exemplary substitution it would be:\n",
    "\n",
    "\\begin{gather}\n",
    "J(x) = \n",
    "\\begin{bmatrix} x_{0} & x_{1} \\end{bmatrix} \n",
    "\\begin{bmatrix} 1 & 0 \\\\ 0 & 1 \\end{bmatrix}\n",
    "\\begin{bmatrix} x_{0} \\\\ x_{1} \\end{bmatrix}\n",
    "      +\n",
    "\\sum_{i=0}^{n}\n",
    "\\begin{bmatrix} y_{0}^i & y_{1}^i \\end{bmatrix} \n",
    "\\begin{bmatrix} 1 & 0 \\\\ 0 & 1 \\end{bmatrix}\n",
    "\\begin{bmatrix} y_{0}^i \\\\ y_{1}^i \\end{bmatrix}\n",
    "\\end{gather}"
   ]
  },
  {
   "cell_type": "code",
   "execution_count": 13,
   "metadata": {},
   "outputs": [],
   "source": [
    "# (batch_size, rows, cols)\n",
    "def custom_loss(prior, x_pred):\n",
    "    custom_loss = tf.transpose(x_pred-prior) @ B_inv @ (x_pred-prior) + \\\n",
    "      tf.reduce_sum(tf.transpose(y-model_x(x_pred),perm=[0,2,1]) @ R_inv @ (y-model_x(x_pred)))\n",
    "    return custom_loss"
   ]
  },
  {
   "cell_type": "code",
   "execution_count": 14,
   "metadata": {},
   "outputs": [],
   "source": [
    "model.compile(\n",
    "    optimizer=tf.optimizers.Adam(learning_rate=0.01),\n",
    "    loss=custom_loss)"
   ]
  },
  {
   "cell_type": "code",
   "execution_count": 15,
   "metadata": {
    "scrolled": false
   },
   "outputs": [
    {
     "name": "stdout",
     "output_type": "stream",
     "text": [
      "Epoch 1/70\n",
      "1/1 [==============================] - 0s 958us/step - loss: 9810260.0000\n",
      "Epoch 2/70\n",
      "1/1 [==============================] - 0s 861us/step - loss: 9414537.0000\n",
      "Epoch 3/70\n",
      "1/1 [==============================] - 0s 847us/step - loss: 8870922.0000\n",
      "Epoch 4/70\n",
      "1/1 [==============================] - 0s 865us/step - loss: 8159389.5000\n",
      "Epoch 5/70\n",
      "1/1 [==============================] - 0s 900us/step - loss: 7349329.0000\n",
      "Epoch 6/70\n",
      "1/1 [==============================] - 0s 925us/step - loss: 6579308.5000\n",
      "Epoch 7/70\n",
      "1/1 [==============================] - 0s 894us/step - loss: 6000783.0000\n",
      "Epoch 8/70\n",
      "1/1 [==============================] - 0s 733us/step - loss: 5383283.0000\n",
      "Epoch 9/70\n",
      "1/1 [==============================] - 0s 1ms/step - loss: 4611609.5000\n",
      "Epoch 10/70\n",
      "1/1 [==============================] - 0s 815us/step - loss: 3858776.2500\n",
      "Epoch 11/70\n",
      "1/1 [==============================] - 0s 1ms/step - loss: 3230057.2500\n",
      "Epoch 12/70\n",
      "1/1 [==============================] - 0s 3ms/step - loss: 2726959.7500\n",
      "Epoch 13/70\n",
      "1/1 [==============================] - 0s 1ms/step - loss: 2303774.2500\n",
      "Epoch 14/70\n",
      "1/1 [==============================] - 0s 901us/step - loss: 1924213.1250\n",
      "Epoch 15/70\n",
      "1/1 [==============================] - 0s 776us/step - loss: 1578229.0000\n",
      "Epoch 16/70\n",
      "1/1 [==============================] - 0s 728us/step - loss: 1273797.8750\n",
      "Epoch 17/70\n",
      "1/1 [==============================] - 0s 897us/step - loss: 1025787.3125\n",
      "Epoch 18/70\n",
      "1/1 [==============================] - 0s 767us/step - loss: 846837.7500\n",
      "Epoch 19/70\n",
      "1/1 [==============================] - 0s 756us/step - loss: 737194.5000\n",
      "Epoch 20/70\n",
      "1/1 [==============================] - 0s 862us/step - loss: 676209.3750\n",
      "Epoch 21/70\n",
      "1/1 [==============================] - 0s 1ms/step - loss: 631587.0625\n",
      "Epoch 22/70\n",
      "1/1 [==============================] - 0s 967us/step - loss: 587106.6875\n",
      "Epoch 23/70\n",
      "1/1 [==============================] - 0s 1ms/step - loss: 551288.0000\n",
      "Epoch 24/70\n",
      "1/1 [==============================] - 0s 758us/step - loss: 537591.2500\n",
      "Epoch 25/70\n",
      "1/1 [==============================] - 0s 757us/step - loss: 547533.6875\n",
      "Epoch 26/70\n",
      "1/1 [==============================] - 0s 923us/step - loss: 571199.3125\n",
      "Epoch 27/70\n",
      "1/1 [==============================] - 0s 1ms/step - loss: 596257.5625\n",
      "Epoch 28/70\n",
      "1/1 [==============================] - 0s 1ms/step - loss: 614957.5625\n",
      "Epoch 29/70\n",
      "1/1 [==============================] - 0s 1ms/step - loss: 626204.6250\n",
      "Epoch 30/70\n",
      "1/1 [==============================] - 0s 736us/step - loss: 634148.5000\n",
      "Epoch 31/70\n",
      "1/1 [==============================] - 0s 791us/step - loss: 644696.8750\n",
      "Epoch 32/70\n",
      "1/1 [==============================] - 0s 1ms/step - loss: 660872.3125\n",
      "Epoch 33/70\n",
      "1/1 [==============================] - 0s 889us/step - loss: 679427.8125\n",
      "Epoch 34/70\n",
      "1/1 [==============================] - 0s 1ms/step - loss: 692987.6875\n",
      "Epoch 35/70\n",
      "1/1 [==============================] - 0s 822us/step - loss: 697428.0625\n",
      "Epoch 36/70\n",
      "1/1 [==============================] - 0s 759us/step - loss: 695807.4375\n",
      "Epoch 37/70\n",
      "1/1 [==============================] - 0s 756us/step - loss: 693985.5625\n",
      "Epoch 38/70\n",
      "1/1 [==============================] - 0s 1000us/step - loss: 694519.6250\n",
      "Epoch 39/70\n",
      "1/1 [==============================] - 0s 1ms/step - loss: 695518.9375\n",
      "Epoch 40/70\n",
      "1/1 [==============================] - 0s 928us/step - loss: 693614.6250\n",
      "Epoch 41/70\n",
      "1/1 [==============================] - 0s 776us/step - loss: 687084.8750\n",
      "Epoch 42/70\n",
      "1/1 [==============================] - 0s 745us/step - loss: 676942.8125\n",
      "Epoch 43/70\n",
      "1/1 [==============================] - 0s 1ms/step - loss: 665921.1875\n",
      "Epoch 44/70\n",
      "1/1 [==============================] - 0s 1ms/step - loss: 656294.8750\n",
      "Epoch 45/70\n",
      "1/1 [==============================] - 0s 887us/step - loss: 648095.8750\n",
      "Epoch 46/70\n",
      "1/1 [==============================] - 0s 989us/step - loss: 639388.3750\n",
      "Epoch 47/70\n",
      "1/1 [==============================] - 0s 1ms/step - loss: 628606.2500\n",
      "Epoch 48/70\n",
      "1/1 [==============================] - 0s 1ms/step - loss: 616384.1250\n",
      "Epoch 49/70\n",
      "1/1 [==============================] - 0s 1ms/step - loss: 604744.6875\n",
      "Epoch 50/70\n",
      "1/1 [==============================] - 0s 1ms/step - loss: 594979.0000\n",
      "Epoch 51/70\n",
      "1/1 [==============================] - 0s 2ms/step - loss: 586741.5000\n",
      "Epoch 52/70\n",
      "1/1 [==============================] - 0s 812us/step - loss: 578894.5625\n",
      "Epoch 53/70\n",
      "1/1 [==============================] - 0s 999us/step - loss: 570797.6250\n",
      "Epoch 54/70\n",
      "1/1 [==============================] - 0s 1ms/step - loss: 562855.0625\n",
      "Epoch 55/70\n",
      "1/1 [==============================] - 0s 924us/step - loss: 556041.6250\n",
      "Epoch 56/70\n",
      "1/1 [==============================] - 0s 795us/step - loss: 550962.3750\n",
      "Epoch 57/70\n",
      "1/1 [==============================] - 0s 773us/step - loss: 547304.9375\n",
      "Epoch 58/70\n",
      "1/1 [==============================] - 0s 1ms/step - loss: 544244.2500\n",
      "Epoch 59/70\n",
      "1/1 [==============================] - 0s 1ms/step - loss: 541344.8125\n",
      "Epoch 60/70\n",
      "1/1 [==============================] - 0s 1ms/step - loss: 538909.0000\n",
      "Epoch 61/70\n",
      "1/1 [==============================] - 0s 1ms/step - loss: 537453.9375\n",
      "Epoch 62/70\n",
      "1/1 [==============================] - 0s 943us/step - loss: 537039.8750\n",
      "Epoch 63/70\n",
      "1/1 [==============================] - 0s 1ms/step - loss: 537205.6875\n",
      "Epoch 64/70\n",
      "1/1 [==============================] - 0s 721us/step - loss: 537445.6875\n",
      "Epoch 65/70\n",
      "1/1 [==============================] - 0s 871us/step - loss: 537619.0625\n",
      "Epoch 66/70\n",
      "1/1 [==============================] - 0s 765us/step - loss: 537936.8125\n",
      "Epoch 67/70\n",
      "1/1 [==============================] - 0s 744us/step - loss: 538600.4375\n",
      "Epoch 68/70\n",
      "1/1 [==============================] - 0s 1ms/step - loss: 539507.6875\n",
      "Epoch 69/70\n",
      "1/1 [==============================] - 0s 753us/step - loss: 540323.9375\n",
      "Epoch 70/70\n",
      "1/1 [==============================] - 0s 919us/step - loss: 540826.2500\n"
     ]
    },
    {
     "data": {
      "text/plain": [
       "<tensorflow.python.keras.callbacks.History at 0x1443e42b0>"
      ]
     },
     "execution_count": 15,
     "metadata": {},
     "output_type": "execute_result"
    }
   ],
   "source": [
    "model.fit(prior, prior, epochs=70, batch_size=2)"
   ]
  },
  {
   "cell_type": "markdown",
   "metadata": {},
   "source": [
    "## Plotting"
   ]
  },
  {
   "cell_type": "code",
   "execution_count": 16,
   "metadata": {
    "scrolled": false
   },
   "outputs": [
    {
     "data": {
      "text/plain": [
       "<matplotlib.collections.PathCollection at 0x148ca9c10>"
      ]
     },
     "execution_count": 16,
     "metadata": {},
     "output_type": "execute_result"
    },
    {
     "data": {
      "image/png": "[encoded data removed]",
      "text/plain": [
       "<Figure size 432x288 with 1 Axes>"
      ]
     },
     "metadata": {
      "needs_background": "light"
     },
     "output_type": "display_data"
    }
   ],
   "source": [
    "fig, ax = plt.subplots()\n",
    "ax.plot(t, tf.squeeze(model_x(prior, horizon=days)))\n",
    "ax.plot(t, tf.squeeze(model_x(model.weights[0], horizon=days)), color='r')\n",
    "ax.plot(t, tf.squeeze(raw), color='g')\n",
    "ax.scatter(t[:70], tf.squeeze(y))"
   ]
  },
  {
   "cell_type": "code",
   "execution_count": 17,
   "metadata": {},
   "outputs": [
    {
     "data": {
      "text/plain": [
       "[<tf.Variable 'Variable:0' shape=(2, 1) dtype=float32, numpy=\n",
       " array([[0.40135217],\n",
       "        [0.04653674]], dtype=float32)>]"
      ]
     },
     "execution_count": 17,
     "metadata": {},
     "output_type": "execute_result"
    }
   ],
   "source": [
    "model.weights"
   ]
  },
  {
   "cell_type": "markdown",
   "metadata": {},
   "source": [
    "### Task 3: Perform epidemic prediction, find params that won't exceed health system capacity"
   ]
  },
  {
   "cell_type": "code",
   "execution_count": 18,
   "metadata": {
    "scrolled": false
   },
   "outputs": [
    {
     "data": {
      "text/plain": [
       "[<matplotlib.lines.Line2D at 0x14434a460>]"
      ]
     },
     "execution_count": 18,
     "metadata": {},
     "output_type": "execute_result"
    },
    {
     "data": {
      "image/png": "[encoded data removed]",
      "text/plain": [
       "<Figure size 432x288 with 1 Axes>"
      ]
     },
     "metadata": {
      "needs_background": "light"
     },
     "output_type": "display_data"
    }
   ],
   "source": [
    "fig, ax = plt.subplots()\n",
    "health_sys_cap = 500\n",
    "ax.plot(t, tf.squeeze(model_x(model.weights[0], horizon=days)), color='r')\n",
    "ax.plot(t, [health_sys_cap for _ in t], '--k')"
   ]
  },
  {
   "cell_type": "code",
   "execution_count": 19,
   "metadata": {},
   "outputs": [
    {
     "data": {
      "text/plain": [
       "Ellipsis"
      ]
     },
     "execution_count": 19,
     "metadata": {},
     "output_type": "execute_result"
    }
   ],
   "source": [
    "..."
   ]
  },
  {
   "cell_type": "markdown",
   "metadata": {},
   "source": [
    "### Task 4: Considering lockdown level for that time estimate restrictions beta value, propose 3 other lockdown methods and assume their beta level (e.g. curfew)"
   ]
  },
  {
   "cell_type": "code",
   "execution_count": 20,
   "metadata": {},
   "outputs": [
    {
     "data": {
      "text/plain": [
       "Ellipsis"
      ]
     },
     "execution_count": 20,
     "metadata": {},
     "output_type": "execute_result"
    }
   ],
   "source": [
    "..."
   ]
  }
 ],
 "metadata": {
  "kernelspec": {
   "display_name": "Python 3",
   "language": "python",
   "name": "python3"
  },
  "language_info": {
   "codemirror_mode": {
    "name": "ipython",
    "version": 3
   },
   "file_extension": ".py",
   "mimetype": "text/x-python",
   "name": "python",
   "nbconvert_exporter": "python",
   "pygments_lexer": "ipython3",
   "version": "3.8.5"
  }
 },
 "nbformat": 4,
 "nbformat_minor": 4
}
