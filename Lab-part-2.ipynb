{
 "cells": [
  {
   "cell_type": "markdown",
   "metadata": {},
   "source": [
    "# SIR epidemic model - [data assimilation]\n",
    "\n",
    "This notebook is the second part of inspecting SIR epidemic model. \n",
    "Here we will perform epidemic data assimilation with proposed numerical model using manually implemented 4D-Var method in TensorFlow."
   ]
  },
  {
   "cell_type": "markdown",
   "metadata": {},
   "source": [
    "## 4D-Var method\n",
    "\n",
    "Data assimilation is the process of optimizint the fit between gathered data and some prior (theoretical or based on previous measure).\n",
    "\n",
    "`4D-Var` is one of the methods for data assimilation - it widely used for weather forecast as a successor of `3D-Var` method. \n",
    "\n",
    "<img src=\"https://i.ibb.co/sWLCYSK/Andersson-NL115-figure-1-box-754px.png\" width=\"400\">\n",
    "\n",
    "`4D-Var` loss for $x$ model parameters is defined:\n",
    "\n",
    "$$J(x) = (x-x_b)^T \\boldsymbol{B}^{-1} (x-x_b) + \\sum_{i=0}^{n}(y_i-\\mathcal{H}_i(x_i))^T \\boldsymbol{R}_i^{-1} (y_i-\\mathcal{H}_i(x_i))$$\n",
    "\n",
    "where: \n",
    "- $x_b$ - our prior parameters\n",
    "- $\\boldsymbol{B}$ - a background error covariance\n",
    "- $\\boldsymbol{R}$ - a observational error covariance\n",
    "- $y$ - observation data\n",
    "- $\\mathcal{H}$ - operator that transforms input space vector into output space\n",
    "\n",
    "`3D-Var` method assumed that all observed data happened at one fixed point of time for given assimilation window. So when performing DA for weather conditions four times a day a six hours  time span is considered as one point in time. As we know weather conditions can change through time so `4D-Var` introduced time dimension to count in temporal changes. "
   ]
  },
  {
   "cell_type": "code",
   "execution_count": 1,
   "metadata": {},
   "outputs": [],
   "source": [
    "import numpy as np\n",
    "import matplotlib.pyplot as plt\n",
    "import tensorflow as tf"
   ]
  },
  {
   "cell_type": "code",
   "execution_count": 2,
   "metadata": {},
   "outputs": [],
   "source": [
    "assert tf.__version__[0] == '2', \"Tensorflow 2.x version required\""
   ]
  },
  {
   "cell_type": "markdown",
   "metadata": {},
   "source": [
    "### Task 1: Complete equations according to formulas"
   ]
  },
  {
   "cell_type": "code",
   "execution_count": 3,
   "metadata": {},
   "outputs": [],
   "source": [
    "def deriv(y, N, beta, gamma):\n",
    "    S, I, R = y\n",
    "    dSdt = -beta * S * I / N\n",
    "    dIdt = beta * S * I / N - gamma * I\n",
    "    dRdt = gamma * I\n",
    "    return dSdt, dIdt, dRdt"
   ]
  },
  {
   "cell_type": "markdown",
   "metadata": {},
   "source": [
    "### Task 2: Complete the formula for each component\n",
    "\n",
    "Hint: For accumulating results use `tf.concat`"
   ]
  },
  {
   "cell_type": "code",
   "execution_count": 4,
   "metadata": {},
   "outputs": [],
   "source": [
    "def euler(deriv, y0, dt, steps, N, beta, gamma):\n",
    "    S0, I0, R0 = y0\n",
    "    S_result, I_result, R_result = S0, I0, R0\n",
    "    for i in range(steps-1):\n",
    "        S1, I1, R1 = deriv((S0, I0, R0), N, beta, gamma)\n",
    "        next_s, next_i, next_r = S0 + dt*S1, I0 + dt*I1, R0 + dt*R1\n",
    "        S_result = tf.concat([S_result, next_s], axis=0)\n",
    "        I_result = tf.concat([I_result, next_i], axis=0)\n",
    "        R_result = tf.concat([R_result, next_r], axis=0)\n",
    "        S0, I0, R0 = next_s, next_i, next_r\n",
    "    return S_result, I_result, R_result"
   ]
  },
  {
   "cell_type": "code",
   "execution_count": 5,
   "metadata": {},
   "outputs": [],
   "source": [
    "# Total population\n",
    "N = tf.constant([1000.])\n",
    "\n",
    "# Initial infected and recovered individuals\n",
    "I0, R0 = tf.constant([1.]), tf.constant([0.])\n",
    "\n",
    "# Everyone else, S0, is susceptible to infection initially\n",
    "S0 = N - I0 - R0\n",
    "\n",
    "# Initial conditions tuple\n",
    "y0 = S0, I0, R0\n",
    "\n",
    "# A grid of time points (in days)\n",
    "days = 160\n",
    "t = np.linspace(0, days, days)\n",
    "dt = 1."
   ]
  },
  {
   "cell_type": "code",
   "execution_count": 6,
   "metadata": {},
   "outputs": [],
   "source": [
    "prediction = tf.constant([[0.2],[0.1]])\n",
    "prior = tf.constant([[0.4],[0.1]])\n",
    "B_inv = tf.eye(2)\n",
    "R_inv = tf.eye(1)"
   ]
  },
  {
   "cell_type": "code",
   "execution_count": 7,
   "metadata": {},
   "outputs": [],
   "source": [
    "def model_I(deriv, y0, dt, steps, N, beta, gamma):\n",
    "    _, I, _ = euler(deriv, y0, dt, steps, N, beta, gamma)\n",
    "    return I[:,None,None]"
   ]
  },
  {
   "cell_type": "code",
   "execution_count": 8,
   "metadata": {},
   "outputs": [],
   "source": [
    "def model_x(x_pred):\n",
    "    return model_I(deriv, y0, dt, days, N, x_pred[0,0], x_pred[1,0])"
   ]
  },
  {
   "cell_type": "code",
   "execution_count": 9,
   "metadata": {},
   "outputs": [],
   "source": [
    "raw = model_x(prediction)\n",
    "data = model_x(prior) + tf.random.normal([160,1,1])\n",
    "y = data"
   ]
  },
  {
   "cell_type": "code",
   "execution_count": 10,
   "metadata": {},
   "outputs": [],
   "source": [
    "class MyModel(tf.keras.Model):\n",
    "\n",
    "    def __init__(self):\n",
    "        super(MyModel, self).__init__()\n",
    "        self.params = tf.Variable([[0.2],[0.1]])\n",
    "\n",
    "    def call(self, inputs, training=False):\n",
    "        return self.params"
   ]
  },
  {
   "cell_type": "code",
   "execution_count": 11,
   "metadata": {
    "scrolled": true
   },
   "outputs": [
    {
     "data": {
      "text/plain": [
       "[<tf.Variable 'Variable:0' shape=(2, 1) dtype=float32, numpy=\n",
       " array([[0.2],\n",
       "        [0.1]], dtype=float32)>]"
      ]
     },
     "execution_count": 11,
     "metadata": {},
     "output_type": "execute_result"
    }
   ],
   "source": [
    "model = MyModel()\n",
    "model.weights"
   ]
  },
  {
   "cell_type": "markdown",
   "metadata": {},
   "source": [
    "### Task 3: Complete the loss function according to the formula\n",
    "\n",
    "Hint: You should use `tf.transpose` and `tf.reduce_sum`"
   ]
  },
  {
   "cell_type": "code",
   "execution_count": 12,
   "metadata": {},
   "outputs": [],
   "source": [
    "# (batch_size, rows, cols)\n",
    "def custom_loss(prior, x_pred):\n",
    "    custom_loss = tf.transpose(x_pred-prior) @ B_inv @ (x_pred-prior) + \\\n",
    "      tf.reduce_sum(tf.transpose(y-model_x(x_pred),perm=[0,2,1]) @ R_inv @ (y-model_x(x_pred)))\n",
    "    return custom_loss"
   ]
  },
  {
   "cell_type": "code",
   "execution_count": 13,
   "metadata": {},
   "outputs": [],
   "source": [
    "model.compile(\n",
    "    optimizer=tf.optimizers.Adam(learning_rate=0.01),\n",
    "    loss=custom_loss)"
   ]
  },
  {
   "cell_type": "code",
   "execution_count": 14,
   "metadata": {
    "scrolled": false
   },
   "outputs": [
    {
     "name": "stdout",
     "output_type": "stream",
     "text": [
      "Epoch 1/50\n",
      "1/1 [==============================] - 0s 1ms/step - loss: 2845912.0000\n",
      "Epoch 2/50\n",
      "1/1 [==============================] - 0s 877us/step - loss: 2691919.2500\n",
      "Epoch 3/50\n",
      "1/1 [==============================] - 0s 790us/step - loss: 2582362.5000\n",
      "Epoch 4/50\n",
      "1/1 [==============================] - 0s 936us/step - loss: 2495807.2500\n",
      "Epoch 5/50\n",
      "1/1 [==============================] - 0s 923us/step - loss: 2412223.0000\n",
      "Epoch 6/50\n",
      "1/1 [==============================] - 0s 929us/step - loss: 2313037.0000\n",
      "Epoch 7/50\n",
      "1/1 [==============================] - 0s 962us/step - loss: 2182019.0000\n",
      "Epoch 8/50\n",
      "1/1 [==============================] - 0s 1ms/step - loss: 2007620.3750\n",
      "Epoch 9/50\n",
      "1/1 [==============================] - 0s 924us/step - loss: 1785956.8750\n",
      "Epoch 10/50\n",
      "1/1 [==============================] - 0s 944us/step - loss: 1522610.7500\n",
      "Epoch 11/50\n",
      "1/1 [==============================] - 0s 939us/step - loss: 1232675.7500\n",
      "Epoch 12/50\n",
      "1/1 [==============================] - 0s 765us/step - loss: 939513.2500\n",
      "Epoch 13/50\n",
      "1/1 [==============================] - 0s 972us/step - loss: 672423.3750\n",
      "Epoch 14/50\n",
      "1/1 [==============================] - 0s 963us/step - loss: 462453.4062\n",
      "Epoch 15/50\n",
      "1/1 [==============================] - 0s 976us/step - loss: 333155.8438\n",
      "Epoch 16/50\n",
      "1/1 [==============================] - 0s 965us/step - loss: 280892.9062\n",
      "Epoch 17/50\n",
      "1/1 [==============================] - 0s 923us/step - loss: 260941.0469\n",
      "Epoch 18/50\n",
      "1/1 [==============================] - 0s 923us/step - loss: 227274.7500\n",
      "Epoch 19/50\n",
      "1/1 [==============================] - 0s 968us/step - loss: 173437.4688\n",
      "Epoch 20/50\n",
      "1/1 [==============================] - 0s 985us/step - loss: 115363.6641\n",
      "Epoch 21/50\n",
      "1/1 [==============================] - 0s 789us/step - loss: 67949.7578\n",
      "Epoch 22/50\n",
      "1/1 [==============================] - 0s 1ms/step - loss: 37869.6172\n",
      "Epoch 23/50\n",
      "1/1 [==============================] - 0s 843us/step - loss: 25015.4746\n",
      "Epoch 24/50\n",
      "1/1 [==============================] - 0s 818us/step - loss: 25805.9824\n",
      "Epoch 25/50\n",
      "1/1 [==============================] - 0s 1ms/step - loss: 35732.2070\n",
      "Epoch 26/50\n",
      "1/1 [==============================] - 0s 815us/step - loss: 50708.2148\n",
      "Epoch 27/50\n",
      "1/1 [==============================] - 0s 895us/step - loss: 67545.3047\n",
      "Epoch 28/50\n",
      "1/1 [==============================] - 0s 1ms/step - loss: 83980.6562\n",
      "Epoch 29/50\n",
      "1/1 [==============================] - 0s 900us/step - loss: 98520.9062\n",
      "Epoch 30/50\n",
      "1/1 [==============================] - 0s 996us/step - loss: 110260.3125\n",
      "Epoch 31/50\n",
      "1/1 [==============================] - 0s 980us/step - loss: 118717.4688\n",
      "Epoch 32/50\n",
      "1/1 [==============================] - 0s 839us/step - loss: 123712.1172\n",
      "Epoch 33/50\n",
      "1/1 [==============================] - 0s 792us/step - loss: 125276.5703\n",
      "Epoch 34/50\n",
      "1/1 [==============================] - 0s 716us/step - loss: 123597.2812\n",
      "Epoch 35/50\n",
      "1/1 [==============================] - 0s 793us/step - loss: 118973.5781\n",
      "Epoch 36/50\n",
      "1/1 [==============================] - 0s 1ms/step - loss: 111793.5078\n",
      "Epoch 37/50\n",
      "1/1 [==============================] - 0s 753us/step - loss: 102515.5625\n",
      "Epoch 38/50\n",
      "1/1 [==============================] - 0s 687us/step - loss: 91655.4219\n",
      "Epoch 39/50\n",
      "1/1 [==============================] - 0s 1ms/step - loss: 79772.9688\n",
      "Epoch 40/50\n",
      "1/1 [==============================] - 0s 954us/step - loss: 67455.4219\n",
      "Epoch 41/50\n",
      "1/1 [==============================] - 0s 873us/step - loss: 55292.5625\n",
      "Epoch 42/50\n",
      "1/1 [==============================] - 0s 1ms/step - loss: 43846.4453\n",
      "Epoch 43/50\n",
      "1/1 [==============================] - 0s 738us/step - loss: 33605.8984\n",
      "Epoch 44/50\n",
      "1/1 [==============================] - 0s 966us/step - loss: 24940.2305\n",
      "Epoch 45/50\n",
      "1/1 [==============================] - 0s 827us/step - loss: 18049.1406\n",
      "Epoch 46/50\n",
      "1/1 [==============================] - 0s 1ms/step - loss: 12934.0557\n",
      "Epoch 47/50\n",
      "1/1 [==============================] - 0s 911us/step - loss: 9400.7656\n",
      "Epoch 48/50\n",
      "1/1 [==============================] - 0s 830us/step - loss: 7112.1914\n",
      "Epoch 49/50\n",
      "1/1 [==============================] - 0s 902us/step - loss: 5680.3896\n",
      "Epoch 50/50\n",
      "1/1 [==============================] - 0s 852us/step - loss: 4776.8022\n"
     ]
    },
    {
     "data": {
      "text/plain": [
       "<tensorflow.python.keras.callbacks.History at 0x1431efa90>"
      ]
     },
     "execution_count": 14,
     "metadata": {},
     "output_type": "execute_result"
    }
   ],
   "source": [
    "model.fit(prior, prior, epochs=50, batch_size=2)"
   ]
  },
  {
   "cell_type": "markdown",
   "metadata": {},
   "source": [
    "## Plotting"
   ]
  },
  {
   "cell_type": "code",
   "execution_count": 15,
   "metadata": {
    "scrolled": true
   },
   "outputs": [
    {
     "data": {
      "text/plain": [
       "<matplotlib.collections.PathCollection at 0x147aa6d60>"
      ]
     },
     "execution_count": 15,
     "metadata": {},
     "output_type": "execute_result"
    },
    {
     "data": {
      "image/png": "[encoded data removed]",
      "text/plain": [
       "<Figure size 432x288 with 1 Axes>"
      ]
     },
     "metadata": {
      "needs_background": "light"
     },
     "output_type": "display_data"
    }
   ],
   "source": [
    "fig, ax = plt.subplots()\n",
    "ax.plot(t, tf.squeeze(model_x(prior)))\n",
    "ax.plot(t, tf.squeeze(model_x(model.weights[0])), color='r')\n",
    "ax.plot(t, tf.squeeze(raw), color='g')\n",
    "ax.scatter(t, tf.squeeze(y))"
   ]
  },
  {
   "cell_type": "markdown",
   "metadata": {},
   "source": [
    "### Task 3: Perform epidemic prediction, find params that won't exceed health system capacity"
   ]
  },
  {
   "cell_type": "code",
   "execution_count": 16,
   "metadata": {},
   "outputs": [
    {
     "data": {
      "text/plain": [
       "Ellipsis"
      ]
     },
     "execution_count": 16,
     "metadata": {},
     "output_type": "execute_result"
    }
   ],
   "source": [
    "..."
   ]
  },
  {
   "cell_type": "markdown",
   "metadata": {},
   "source": [
    "### Task 4: Considering lockdown level for that time estimate restrictions beta value, propose 3 other lockdown methods and assume their beta level (e.g. curfew)"
   ]
  },
  {
   "cell_type": "code",
   "execution_count": 17,
   "metadata": {},
   "outputs": [
    {
     "data": {
      "text/plain": [
       "Ellipsis"
      ]
     },
     "execution_count": 17,
     "metadata": {},
     "output_type": "execute_result"
    }
   ],
   "source": [
    "..."
   ]
  }
 ],
 "metadata": {
  "kernelspec": {
   "display_name": "Python 3",
   "language": "python",
   "name": "python3"
  },
  "language_info": {
   "codemirror_mode": {
    "name": "ipython",
    "version": 3
   },
   "file_extension": ".py",
   "mimetype": "text/x-python",
   "name": "python",
   "nbconvert_exporter": "python",
   "pygments_lexer": "ipython3",
   "version": "3.8.5"
  }
 },
 "nbformat": 4,
 "nbformat_minor": 4
}
