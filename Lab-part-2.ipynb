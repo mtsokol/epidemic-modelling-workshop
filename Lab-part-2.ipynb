{
 "cells": [
  {
   "cell_type": "markdown",
   "metadata": {},
   "source": [
    "# SIR epidemic model - [data assimilation]\n",
    "\n",
    "This notebook is the second part of inspecting SIR epidemic model. \n",
    "Here we will perform epidemic data assimilation with proposed numerical model using manually implemented 4D-Var method in TensorFlow."
   ]
  },
  {
   "cell_type": "markdown",
   "metadata": {},
   "source": [
    "## 4D-Var method\n",
    "\n",
    "Data assimilation is the process of fitting posterior model given gathered data and prior (theoretical or based on previous measure)\n",
    "\n",
    "TODO theory\n",
    "\n",
    "TODO formula description"
   ]
  },
  {
   "cell_type": "code",
   "execution_count": 1,
   "metadata": {},
   "outputs": [],
   "source": [
    "import numpy as np\n",
    "import matplotlib.pyplot as plt\n",
    "import tensorflow as tf"
   ]
  },
  {
   "cell_type": "code",
   "execution_count": 2,
   "metadata": {},
   "outputs": [],
   "source": [
    "assert tf.__version__[0] == '2', \"Tensorflow 2.x version required\""
   ]
  },
  {
   "cell_type": "markdown",
   "metadata": {},
   "source": [
    "### Task 1: Complete equations according to formulas"
   ]
  },
  {
   "cell_type": "code",
   "execution_count": 3,
   "metadata": {},
   "outputs": [],
   "source": [
    "def deriv(y, N, beta, gamma):\n",
    "    S, I, R = y\n",
    "    dSdt = -beta * S * I / N\n",
    "    dIdt = beta * S * I / N - gamma * I\n",
    "    dRdt = gamma * I\n",
    "    return dSdt, dIdt, dRdt"
   ]
  },
  {
   "cell_type": "markdown",
   "metadata": {},
   "source": [
    "### Task 2: Complete the formula for each component\n",
    "\n",
    "Hint: For accumulating results use `tf.concat`"
   ]
  },
  {
   "cell_type": "code",
   "execution_count": 4,
   "metadata": {},
   "outputs": [],
   "source": [
    "def euler(deriv, y0, dt, steps, N, beta, gamma):\n",
    "    S0, I0, R0 = y0\n",
    "    S_result, I_result, R_result = S0, I0, R0\n",
    "    for i in range(steps-1):\n",
    "        S1, I1, R1 = deriv((S0, I0, R0), N, beta, gamma)\n",
    "        next_s, next_i, next_r = S0 + dt*S1, I0 + dt*I1, R0 + dt*R1\n",
    "        S_result = tf.concat([S_result, next_s], axis=0)\n",
    "        I_result = tf.concat([I_result, next_i], axis=0)\n",
    "        R_result = tf.concat([R_result, next_r], axis=0)\n",
    "        S0, I0, R0 = next_s, next_i, next_r\n",
    "    return S_result, I_result, R_result"
   ]
  },
  {
   "cell_type": "code",
   "execution_count": 5,
   "metadata": {},
   "outputs": [],
   "source": [
    "# Total population\n",
    "N = tf.constant([1000.])\n",
    "\n",
    "# Initial infected and recovered individuals\n",
    "I0, R0 = tf.constant([1.]), tf.constant([0.])\n",
    "\n",
    "# Everyone else, S0, is susceptible to infection initially\n",
    "S0 = N - I0 - R0\n",
    "\n",
    "# Initial conditions tuple\n",
    "y0 = S0, I0, R0\n",
    "\n",
    "# A grid of time points (in days)\n",
    "days = 160\n",
    "t = np.linspace(0, days, days)\n",
    "dt = 1."
   ]
  },
  {
   "cell_type": "code",
   "execution_count": 6,
   "metadata": {},
   "outputs": [],
   "source": [
    "prediction = tf.constant([[0.2],[0.1]])\n",
    "prior = tf.constant([[0.4],[0.1]])\n",
    "B_inv = tf.eye(2)\n",
    "R_inv = tf.eye(1)"
   ]
  },
  {
   "cell_type": "code",
   "execution_count": 9,
   "metadata": {},
   "outputs": [],
   "source": [
    "def model_I(deriv, y0, dt, steps, N, beta, gamma):\n",
    "    _, I, _ = euler(deriv, y0, dt, steps, N, beta, gamma) # X[0,0], X[1,0]\n",
    "    return I[:,None,None]"
   ]
  },
  {
   "cell_type": "code",
   "execution_count": 12,
   "metadata": {},
   "outputs": [],
   "source": [
    "def mm(x_pred):\n",
    "    return model_I(deriv, y0, dt, days, N, x_pred[0,0], x_pred[1,0])"
   ]
  },
  {
   "cell_type": "code",
   "execution_count": 42,
   "metadata": {},
   "outputs": [],
   "source": [
    "raw = mm(prediction)\n",
    "data = mm(prior) + tf.random.normal([160,1,1])\n",
    "y = data"
   ]
  },
  {
   "cell_type": "code",
   "execution_count": 43,
   "metadata": {},
   "outputs": [],
   "source": [
    "class MyModel(tf.keras.Model):\n",
    "\n",
    "    def __init__(self):\n",
    "        super(MyModel, self).__init__()\n",
    "        self.dense = tf.Variable([[0.2],[0.1]])\n",
    "\n",
    "    def call(self, inputs, training=False):\n",
    "        return self.dense"
   ]
  },
  {
   "cell_type": "code",
   "execution_count": 38,
   "metadata": {
    "scrolled": true
   },
   "outputs": [
    {
     "data": {
      "text/plain": [
       "[<tf.Variable 'Variable:0' shape=(2, 1) dtype=float32, numpy=\n",
       " array([[0.2],\n",
       "        [0.1]], dtype=float32)>]"
      ]
     },
     "execution_count": 38,
     "metadata": {},
     "output_type": "execute_result"
    }
   ],
   "source": [
    "model = MyModel()\n",
    "model.weights"
   ]
  },
  {
   "cell_type": "markdown",
   "metadata": {},
   "source": [
    "### Task 3: Complete the loss function according to the formula\n",
    "\n",
    "Hint: You should use `tf.transpose` and `tf.reduce_sum`"
   ]
  },
  {
   "cell_type": "code",
   "execution_count": 39,
   "metadata": {},
   "outputs": [],
   "source": [
    "# (batch_size, rows, cols)\n",
    "def custom_loss(prior, x_pred):\n",
    "    custom_loss = tf.transpose(x_pred-prior) @ B_inv @ (x_pred-prior) + \\\n",
    "      tf.reduce_sum(tf.transpose(y-mm(x_pred),perm=[0,2,1]) @ R_inv @ (y-mm(x_pred)))\n",
    "    return custom_loss"
   ]
  },
  {
   "cell_type": "code",
   "execution_count": 40,
   "metadata": {},
   "outputs": [],
   "source": [
    "model.compile(\n",
    "    optimizer=tf.optimizers.Adam(learning_rate=0.01),\n",
    "    loss=custom_loss)"
   ]
  },
  {
   "cell_type": "code",
   "execution_count": 41,
   "metadata": {
    "scrolled": false
   },
   "outputs": [
    {
     "name": "stdout",
     "output_type": "stream",
     "text": [
      "Epoch 1/50\n",
      "1/1 [==============================] - 0s 1ms/step - loss: 2844043.7500\n",
      "Epoch 2/50\n",
      "1/1 [==============================] - 0s 788us/step - loss: 2690215.5000\n",
      "Epoch 3/50\n",
      "1/1 [==============================] - 0s 946us/step - loss: 2580817.0000\n",
      "Epoch 4/50\n",
      "1/1 [==============================] - 0s 983us/step - loss: 2494544.5000\n",
      "Epoch 5/50\n",
      "1/1 [==============================] - 0s 796us/step - loss: 2411548.7500\n",
      "Epoch 6/50\n",
      "1/1 [==============================] - 0s 929us/step - loss: 2313411.5000\n",
      "Epoch 7/50\n",
      "1/1 [==============================] - 0s 773us/step - loss: 2183907.0000\n",
      "Epoch 8/50\n",
      "1/1 [==============================] - 0s 1ms/step - loss: 2011284.2500\n",
      "Epoch 9/50\n",
      "1/1 [==============================] - 0s 826us/step - loss: 1791342.2500\n",
      "Epoch 10/50\n",
      "1/1 [==============================] - 0s 1ms/step - loss: 1529370.6250\n",
      "Epoch 11/50\n",
      "1/1 [==============================] - 0s 1ms/step - loss: 1240200.5000\n",
      "Epoch 12/50\n",
      "1/1 [==============================] - 0s 1ms/step - loss: 946917.1250\n",
      "Epoch 13/50\n",
      "1/1 [==============================] - 0s 1ms/step - loss: 678543.6875\n",
      "Epoch 14/50\n",
      "1/1 [==============================] - 0s 1ms/step - loss: 465977.1250\n",
      "Epoch 15/50\n",
      "1/1 [==============================] - 0s 4ms/step - loss: 333238.0625\n",
      "Epoch 16/50\n",
      "1/1 [==============================] - 0s 11ms/step - loss: 278643.0938\n",
      "Epoch 17/50\n",
      "1/1 [==============================] - 0s 1ms/step - loss: 259529.3906\n",
      "Epoch 18/50\n",
      "1/1 [==============================] - 0s 1ms/step - loss: 228422.4844\n",
      "Epoch 19/50\n",
      "1/1 [==============================] - 0s 1ms/step - loss: 176439.6250\n",
      "Epoch 20/50\n",
      "1/1 [==============================] - 0s 2ms/step - loss: 118834.5938\n",
      "Epoch 21/50\n",
      "1/1 [==============================] - 0s 1ms/step - loss: 70887.8750\n",
      "Epoch 22/50\n",
      "1/1 [==============================] - 0s 2ms/step - loss: 39840.9922\n",
      "Epoch 23/50\n",
      "1/1 [==============================] - 0s 6ms/step - loss: 25990.7441\n",
      "Epoch 24/50\n",
      "1/1 [==============================] - 0s 2ms/step - loss: 25956.0020\n",
      "Epoch 25/50\n",
      "1/1 [==============================] - 0s 8ms/step - loss: 35290.6484\n",
      "Epoch 26/50\n",
      "1/1 [==============================] - 0s 5ms/step - loss: 49895.8125\n",
      "Epoch 27/50\n",
      "1/1 [==============================] - 0s 973us/step - loss: 66544.3438\n",
      "Epoch 28/50\n",
      "1/1 [==============================] - 0s 2ms/step - loss: 82928.0312\n",
      "Epoch 29/50\n",
      "1/1 [==============================] - 0s 973us/step - loss: 97515.0938\n",
      "Epoch 30/50\n",
      "1/1 [==============================] - 0s 2ms/step - loss: 109367.4453\n",
      "Epoch 31/50\n",
      "1/1 [==============================] - 0s 1ms/step - loss: 117978.7969\n",
      "Epoch 32/50\n",
      "1/1 [==============================] - 0s 6ms/step - loss: 123148.4531\n",
      "Epoch 33/50\n",
      "1/1 [==============================] - 0s 1ms/step - loss: 124895.1406\n",
      "Epoch 34/50\n",
      "1/1 [==============================] - 0s 3ms/step - loss: 123392.0078\n",
      "Epoch 35/50\n",
      "1/1 [==============================] - 0s 2ms/step - loss: 118929.5312\n",
      "Epoch 36/50\n",
      "1/1 [==============================] - 0s 3ms/step - loss: 111888.9219\n",
      "Epoch 37/50\n",
      "1/1 [==============================] - 0s 2ms/step - loss: 102722.8750\n",
      "Epoch 38/50\n",
      "1/1 [==============================] - 0s 3ms/step - loss: 91943.8828\n",
      "Epoch 39/50\n",
      "1/1 [==============================] - 0s 3ms/step - loss: 80108.4219\n",
      "Epoch 40/50\n",
      "1/1 [==============================] - 0s 5ms/step - loss: 67804.0938\n",
      "Epoch 41/50\n",
      "1/1 [==============================] - 0s 2ms/step - loss: 55623.4219\n",
      "Epoch 42/50\n",
      "1/1 [==============================] - 0s 2ms/step - loss: 44132.4883\n",
      "Epoch 43/50\n",
      "1/1 [==============================] - 0s 3ms/step - loss: 33829.5391\n",
      "Epoch 44/50\n",
      "1/1 [==============================] - 0s 7ms/step - loss: 25094.4844\n",
      "Epoch 45/50\n",
      "1/1 [==============================] - 0s 3ms/step - loss: 18139.4570\n",
      "Epoch 46/50\n",
      "1/1 [==============================] - 0s 2ms/step - loss: 12978.2793\n",
      "Epoch 47/50\n",
      "1/1 [==============================] - 0s 2ms/step - loss: 9423.9287\n",
      "Epoch 48/50\n",
      "1/1 [==============================] - 0s 2ms/step - loss: 7139.6587\n",
      "Epoch 49/50\n",
      "1/1 [==============================] - 0s 969us/step - loss: 5728.4404\n",
      "Epoch 50/50\n",
      "1/1 [==============================] - 0s 3ms/step - loss: 4846.2412\n"
     ]
    },
    {
     "data": {
      "text/plain": [
       "<tensorflow.python.keras.callbacks.History at 0x14d7f7850>"
      ]
     },
     "execution_count": 41,
     "metadata": {},
     "output_type": "execute_result"
    }
   ],
   "source": [
    "model.fit(prior, prior, epochs=50, batch_size=2)"
   ]
  },
  {
   "cell_type": "markdown",
   "metadata": {},
   "source": [
    "## Plotting"
   ]
  },
  {
   "cell_type": "code",
   "execution_count": 44,
   "metadata": {
    "scrolled": true
   },
   "outputs": [
    {
     "data": {
      "text/plain": [
       "<matplotlib.collections.PathCollection at 0x151ed4a90>"
      ]
     },
     "execution_count": 44,
     "metadata": {},
     "output_type": "execute_result"
    },
    {
     "data": {
      "image/png": "[encoded data removed]",
      "text/plain": [
       "<Figure size 432x288 with 1 Axes>"
      ]
     },
     "metadata": {
      "needs_background": "light"
     },
     "output_type": "display_data"
    }
   ],
   "source": [
    "fig, ax = plt.subplots()\n",
    "ax.plot(t, tf.squeeze(mm(prior)))\n",
    "ax.plot(t, tf.squeeze(mm(model.weights[0])), color='r')\n",
    "ax.plot(t, tf.squeeze(raw), color='g')\n",
    "ax.scatter(t, tf.squeeze(y))"
   ]
  },
  {
   "cell_type": "markdown",
   "metadata": {},
   "source": [
    "### Task 3: Perform epidemic prediction, find params that won't exceed health system capacity"
   ]
  },
  {
   "cell_type": "code",
   "execution_count": 27,
   "metadata": {},
   "outputs": [
    {
     "data": {
      "text/plain": [
       "Ellipsis"
      ]
     },
     "execution_count": 27,
     "metadata": {},
     "output_type": "execute_result"
    }
   ],
   "source": [
    "..."
   ]
  },
  {
   "cell_type": "markdown",
   "metadata": {},
   "source": [
    "### Task 4: Considering lockdown level for that time estimate restrictions beta value, propose 3 other lockdown methods and assume their beta level (e.g. curfew)"
   ]
  },
  {
   "cell_type": "code",
   "execution_count": 28,
   "metadata": {},
   "outputs": [
    {
     "data": {
      "text/plain": [
       "Ellipsis"
      ]
     },
     "execution_count": 28,
     "metadata": {},
     "output_type": "execute_result"
    }
   ],
   "source": [
    "..."
   ]
  }
 ],
 "metadata": {
  "kernelspec": {
   "display_name": "Python 3",
   "language": "python",
   "name": "python3"
  },
  "language_info": {
   "codemirror_mode": {
    "name": "ipython",
    "version": 3
   },
   "file_extension": ".py",
   "mimetype": "text/x-python",
   "name": "python",
   "nbconvert_exporter": "python",
   "pygments_lexer": "ipython3",
   "version": "3.8.5"
  }
 },
 "nbformat": 4,
 "nbformat_minor": 4
}
