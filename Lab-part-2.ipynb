{
 "cells": [
  {
   "cell_type": "markdown",
   "metadata": {
    "id": "YWa2nHPPhVXP"
   },
   "source": [
    "# SIR epidemic model - [data assimilation]\n",
    "\n",
    "This notebook is the second part of inspecting SIR epidemic model. \n",
    "Here we will perform epidemic data assimilation with proposed numerical model using manually implemented 4D-Var method in TensorFlow."
   ]
  },
  {
   "cell_type": "markdown",
   "metadata": {
    "id": "jxcqgv3UhVXb"
   },
   "source": [
    "## 4D-Var method\n",
    "\n",
    "Data assimilation is the process of optimizint the fit between gathered data and some prior (theoretical or based on previous measure).\n",
    "\n",
    "`4D-Var` is one of the methods for data assimilation - it widely used for weather forecast as a successor of `3D-Var` method. \n",
    "\n",
    "<img src=\"https://i.ibb.co/sWLCYSK/Andersson-NL115-figure-1-box-754px.png\" width=\"400\">\n",
    "\n",
    "`4D-Var` loss for $x$ model parameters is defined:\n",
    "\n",
    "$$J(x) = (x-x_b)^T \\boldsymbol{B}^{-1} (x-x_b) + \\sum_{i=0}^{n}(y_i-\\mathcal{H}_i(x_i))^T \\boldsymbol{R}_i^{-1} (y_i-\\mathcal{H}_i(x_i))$$\n",
    "\n",
    "where: \n",
    "- $x_b$ - our prior parameters\n",
    "- $\\boldsymbol{B}$ - a background error covariance\n",
    "- $\\boldsymbol{R}$ - a observational error covariance\n",
    "- $y$ - observation data\n",
    "- $\\mathcal{H}$ - operator that transforms input space vector into output space\n",
    "\n",
    "`3D-Var` method assumed that all observed data happened at one fixed point of time for given assimilation window. So when performing DA for weather conditions four times a day a six hours  time span is considered as one point in time. As we know weather conditions can change through time so `4D-Var` introduced time dimension to count in temporal changes. "
   ]
  },
  {
   "cell_type": "code",
   "execution_count": 1,
   "metadata": {
    "id": "8g1_KGGChVXh"
   },
   "outputs": [],
   "source": [
    "import numpy as np\n",
    "import matplotlib.pyplot as plt\n",
    "import tensorflow as tf\n",
    "import pandas as pd"
   ]
  },
  {
   "cell_type": "code",
   "execution_count": 2,
   "metadata": {
    "id": "Z5KGi_B4hVYO"
   },
   "outputs": [],
   "source": [
    "assert tf.__version__[0] == '2', \"Tensorflow 2.x version required\""
   ]
  },
  {
   "cell_type": "code",
   "execution_count": 3,
   "metadata": {
    "id": "JUjsaU8xhVYq"
   },
   "outputs": [],
   "source": [
    "np.random.seed(2)\n",
    "tf.random.set_seed(2)"
   ]
  },
  {
   "cell_type": "markdown",
   "metadata": {
    "id": "yjdyKip-hVZN"
   },
   "source": [
    "### Task 1: Complete equations according to formulas"
   ]
  },
  {
   "cell_type": "code",
   "execution_count": 4,
   "metadata": {
    "id": "WMz1X2TnhVZR"
   },
   "outputs": [],
   "source": [
    "def deriv(y, N, beta, gamma):\n",
    "    S, I, R = y\n",
    "    dSdt = -beta * S * I / N\n",
    "    dIdt = beta * S * I / N - gamma * I\n",
    "    dRdt = gamma * I\n",
    "    return dSdt, dIdt, dRdt"
   ]
  },
  {
   "cell_type": "markdown",
   "metadata": {
    "id": "WI7wC9V_hVZv"
   },
   "source": [
    "### Task 2: Complete the formula for each component\n",
    "\n",
    "Hint: For accumulating results use `tf.concat`"
   ]
  },
  {
   "cell_type": "code",
   "execution_count": 5,
   "metadata": {
    "id": "uTaglbljhVZ0"
   },
   "outputs": [],
   "source": [
    "def euler(deriv, y0, dt, steps, N, beta, gamma):\n",
    "    S0, I0, R0 = y0\n",
    "    S_result, I_result, R_result = S0, I0, R0\n",
    "    for i in range(steps-1):\n",
    "        S1, I1, R1 = deriv((S0, I0, R0), N, beta, gamma)\n",
    "        next_s, next_i, next_r = S0 + dt*S1, I0 + dt*I1, R0 + dt*R1\n",
    "        S_result = tf.concat([S_result, next_s], axis=0)\n",
    "        I_result = tf.concat([I_result, next_i], axis=0)\n",
    "        R_result = tf.concat([R_result, next_r], axis=0)\n",
    "        S0, I0, R0 = next_s, next_i, next_r\n",
    "    return S_result, I_result, R_result"
   ]
  },
  {
   "cell_type": "code",
   "execution_count": 6,
   "metadata": {
    "id": "BuyvGHZuhVaV"
   },
   "outputs": [],
   "source": [
    "# Total population\n",
    "N = tf.constant([2500.])\n",
    "\n",
    "# Initial infected and recovered individuals\n",
    "I0, R0 = tf.constant([1.]), tf.constant([0.])\n",
    "\n",
    "# Everyone else, S0, is susceptible to infection initially\n",
    "S0 = N - I0 - R0\n",
    "\n",
    "# Initial conditions tuple\n",
    "y0 = S0, I0, R0\n",
    "\n",
    "# A grid of time points (in days)\n",
    "days = 160\n",
    "t = np.linspace(0, days, days)\n",
    "dt = 1."
   ]
  },
  {
   "cell_type": "code",
   "execution_count": 7,
   "metadata": {
    "id": "WSFqca1_hVbQ"
   },
   "outputs": [],
   "source": [
    "initial_weights = tf.constant([[0.2],[0.1]])\n",
    "prior = tf.constant([[0.3],[0.1]])\n",
    "B_inv = tf.eye(2)\n",
    "R_inv = tf.eye(1) "
   ]
  },
  {
   "cell_type": "code",
   "execution_count": 8,
   "metadata": {
    "id": "i0lRyt0qhVbj"
   },
   "outputs": [],
   "source": [
    "def model_I(deriv, y0, dt, steps, N, beta, gamma):\n",
    "    _, I, _ = euler(deriv, y0, dt, steps, N, beta, gamma)\n",
    "    return I[:,None,None]"
   ]
  },
  {
   "cell_type": "code",
   "execution_count": 9,
   "metadata": {
    "id": "U0Hz7awYhVb5"
   },
   "outputs": [],
   "source": [
    "def model_x(x_pred, horizon=70):\n",
    "    return model_I(deriv, y0, dt, days, N, x_pred[0,0], x_pred[1,0])[:horizon]"
   ]
  },
  {
   "cell_type": "markdown",
   "metadata": {},
   "source": [
    "### Loading dataset"
   ]
  },
  {
   "cell_type": "code",
   "execution_count": 10,
   "metadata": {
    "colab": {
     "base_uri": "https://localhost:8080/",
     "height": 206
    },
    "id": "Mg0o1WlCjR6v",
    "outputId": "8528b4c0-4a09-48cf-f65e-394dc0d5adbb"
   },
   "outputs": [
    {
     "data": {
      "text/html": [
       "<div>\n",
       "<style scoped>\n",
       "    .dataframe tbody tr th:only-of-type {\n",
       "        vertical-align: middle;\n",
       "    }\n",
       "\n",
       "    .dataframe tbody tr th {\n",
       "        vertical-align: top;\n",
       "    }\n",
       "\n",
       "    .dataframe thead th {\n",
       "        text-align: right;\n",
       "    }\n",
       "</style>\n",
       "<table border=\"1\" class=\"dataframe\">\n",
       "  <thead>\n",
       "    <tr style=\"text-align: right;\">\n",
       "      <th></th>\n",
       "      <th>Date</th>\n",
       "      <th>Active cases</th>\n",
       "    </tr>\n",
       "  </thead>\n",
       "  <tbody>\n",
       "    <tr>\n",
       "      <th>0</th>\n",
       "      <td>2020-02-28</td>\n",
       "      <td>1</td>\n",
       "    </tr>\n",
       "    <tr>\n",
       "      <th>1</th>\n",
       "      <td>2020-02-29</td>\n",
       "      <td>1</td>\n",
       "    </tr>\n",
       "    <tr>\n",
       "      <th>2</th>\n",
       "      <td>2020-03-01</td>\n",
       "      <td>1</td>\n",
       "    </tr>\n",
       "    <tr>\n",
       "      <th>3</th>\n",
       "      <td>2020-03-02</td>\n",
       "      <td>1</td>\n",
       "    </tr>\n",
       "    <tr>\n",
       "      <th>4</th>\n",
       "      <td>2020-03-03</td>\n",
       "      <td>2</td>\n",
       "    </tr>\n",
       "  </tbody>\n",
       "</table>\n",
       "</div>"
      ],
      "text/plain": [
       "         Date  Active cases\n",
       "0  2020-02-28             1\n",
       "1  2020-02-29             1\n",
       "2  2020-03-01             1\n",
       "3  2020-03-02             1\n",
       "4  2020-03-03             2"
      ]
     },
     "execution_count": 10,
     "metadata": {},
     "output_type": "execute_result"
    }
   ],
   "source": [
    "data = pd.read_csv(\"New Zealand COVID active cases.csv\", delimiter=\";\", )\n",
    "data.head()"
   ]
  },
  {
   "cell_type": "code",
   "execution_count": 11,
   "metadata": {
    "id": "VPO4pbYWhVcM"
   },
   "outputs": [],
   "source": [
    "raw = model_x(initial_weights, horizon=days)\n",
    "y = data.loc[:, \"Active cases\"].values\n",
    "y = y[:,None,None]"
   ]
  },
  {
   "cell_type": "code",
   "execution_count": 12,
   "metadata": {
    "id": "hgPtU-8shVcn"
   },
   "outputs": [],
   "source": [
    "class Model4DVar(tf.keras.Model):\n",
    "\n",
    "    def __init__(self):\n",
    "        super(Model4DVar, self).__init__()\n",
    "        self.params = tf.Variable(initial_weights.numpy())\n",
    "\n",
    "    def call(self, inputs, training=False):\n",
    "        return self.params"
   ]
  },
  {
   "cell_type": "code",
   "execution_count": 13,
   "metadata": {
    "colab": {
     "base_uri": "https://localhost:8080/"
    },
    "id": "_xXIUVGRhVdB",
    "outputId": "277723a0-b78c-4563-a0f7-b328e75d495a",
    "scrolled": true
   },
   "outputs": [
    {
     "data": {
      "text/plain": [
       "[<tf.Variable 'Variable:0' shape=(2, 1) dtype=float32, numpy=\n",
       " array([[0.2],\n",
       "        [0.1]], dtype=float32)>]"
      ]
     },
     "execution_count": 13,
     "metadata": {},
     "output_type": "execute_result"
    }
   ],
   "source": [
    "model = Model4DVar()\n",
    "model.weights"
   ]
  },
  {
   "cell_type": "markdown",
   "metadata": {
    "id": "br8UGDzwhVdX"
   },
   "source": [
    "### Task 3: Complete the loss function according to the formula\n",
    "\n",
    "Hint: You should use `tf.transpose` and `tf.reduce_sum`. In `tf.transpose` for observation part notice that first dimension is batch size"
   ]
  },
  {
   "cell_type": "markdown",
   "metadata": {
    "id": "PAxRHqUmhVdc"
   },
   "source": [
    "`4D-Var` loss for $x$ model parameters is:\n",
    "\n",
    "$$J(x) = (x-x_b)^T \\boldsymbol{B}^{-1} (x-x_b) + \\sum_{i=0}^{n}(y_i-\\mathcal{H}_i(x_i))^T \\boldsymbol{R}_i^{-1} (y_i-\\mathcal{H}_i(x_i))$$"
   ]
  },
  {
   "cell_type": "markdown",
   "metadata": {
    "id": "YxYBwW9AhVdg"
   },
   "source": [
    "With exemplary substitution it would be:\n",
    "\n",
    "\\begin{gather}\n",
    "J(x) = \n",
    "\\begin{bmatrix} x_{0} & x_{1} \\end{bmatrix} \n",
    "\\begin{bmatrix} 1 & 0 \\\\ 0 & 1 \\end{bmatrix}\n",
    "\\begin{bmatrix} x_{0} \\\\ x_{1} \\end{bmatrix}\n",
    "      +\n",
    "\\sum_{i=0}^{n}\n",
    "\\begin{bmatrix} y_{0}^i & y_{1}^i \\end{bmatrix} \n",
    "\\begin{bmatrix} 1 & 0 \\\\ 0 & 1 \\end{bmatrix}\n",
    "\\begin{bmatrix} y_{0}^i \\\\ y_{1}^i \\end{bmatrix}\n",
    "\\end{gather}"
   ]
  },
  {
   "cell_type": "code",
   "execution_count": 14,
   "metadata": {
    "id": "pJqhn7V_hVdj"
   },
   "outputs": [],
   "source": [
    "# (batch_size, rows, cols)\n",
    "def custom_loss(prior, x_pred):\n",
    "    custom_loss = tf.transpose(x_pred-prior) @ B_inv @ (x_pred-prior) + \\\n",
    "      tf.reduce_sum(tf.transpose(y-model_x(x_pred),perm=[0,2,1]) @ R_inv @ (y-model_x(x_pred)))\n",
    "    return custom_loss"
   ]
  },
  {
   "cell_type": "code",
   "execution_count": 15,
   "metadata": {
    "id": "hPKxlVnQhVdz"
   },
   "outputs": [],
   "source": [
    "model.compile(\n",
    "    optimizer=tf.optimizers.Adam(learning_rate=0.001),\n",
    "    loss=custom_loss)"
   ]
  },
  {
   "cell_type": "code",
   "execution_count": 16,
   "metadata": {
    "colab": {
     "base_uri": "https://localhost:8080/"
    },
    "id": "UWgs1XyXhVeG",
    "outputId": "753a355d-4040-48f1-f622-3fa85bc40ad1",
    "scrolled": false
   },
   "outputs": [
    {
     "name": "stdout",
     "output_type": "stream",
     "text": [
      "Epoch 1/200\n",
      "1/1 [==============================] - 0s 1ms/step - loss: 11828947.0000\n",
      "Epoch 2/200\n",
      "1/1 [==============================] - 0s 776us/step - loss: 11712623.0000\n",
      "Epoch 3/200\n",
      "1/1 [==============================] - 0s 1ms/step - loss: 11599758.0000\n",
      "Epoch 4/200\n",
      "1/1 [==============================] - 0s 1ms/step - loss: 11491296.0000\n",
      "Epoch 5/200\n",
      "1/1 [==============================] - 0s 982us/step - loss: 11388078.0000\n",
      "Epoch 6/200\n",
      "1/1 [==============================] - 0s 774us/step - loss: 11290839.0000\n",
      "Epoch 7/200\n",
      "1/1 [==============================] - 0s 1ms/step - loss: 11200140.0000\n",
      "Epoch 8/200\n",
      "1/1 [==============================] - 0s 894us/step - loss: 11116357.0000\n",
      "Epoch 9/200\n",
      "1/1 [==============================] - 0s 809us/step - loss: 11039649.0000\n",
      "Epoch 10/200\n",
      "1/1 [==============================] - 0s 993us/step - loss: 10969942.0000\n",
      "Epoch 11/200\n",
      "1/1 [==============================] - 0s 1ms/step - loss: 10906944.0000\n",
      "Epoch 12/200\n",
      "1/1 [==============================] - 0s 1ms/step - loss: 10850135.0000\n",
      "Epoch 13/200\n",
      "1/1 [==============================] - 0s 1ms/step - loss: 10798811.0000\n",
      "Epoch 14/200\n",
      "1/1 [==============================] - 0s 1ms/step - loss: 10752102.0000\n",
      "Epoch 15/200\n",
      "1/1 [==============================] - 0s 997us/step - loss: 10709006.0000\n",
      "Epoch 16/200\n",
      "1/1 [==============================] - 0s 1ms/step - loss: 10668453.0000\n",
      "Epoch 17/200\n",
      "1/1 [==============================] - 0s 868us/step - loss: 10629321.0000\n",
      "Epoch 18/200\n",
      "1/1 [==============================] - 0s 766us/step - loss: 10590507.0000\n",
      "Epoch 19/200\n",
      "1/1 [==============================] - 0s 1ms/step - loss: 10550956.0000\n",
      "Epoch 20/200\n",
      "1/1 [==============================] - 0s 951us/step - loss: 10509702.0000\n",
      "Epoch 21/200\n",
      "1/1 [==============================] - 0s 1ms/step - loss: 10465892.0000\n",
      "Epoch 22/200\n",
      "1/1 [==============================] - 0s 1ms/step - loss: 10418804.0000\n",
      "Epoch 23/200\n",
      "1/1 [==============================] - 0s 860us/step - loss: 10367876.0000\n",
      "Epoch 24/200\n",
      "1/1 [==============================] - 0s 1ms/step - loss: 10312665.0000\n",
      "Epoch 25/200\n",
      "1/1 [==============================] - 0s 828us/step - loss: 10252869.0000\n",
      "Epoch 26/200\n",
      "1/1 [==============================] - 0s 813us/step - loss: 10188274.0000\n",
      "Epoch 27/200\n",
      "1/1 [==============================] - 0s 1ms/step - loss: 10118775.0000\n",
      "Epoch 28/200\n",
      "1/1 [==============================] - 0s 1ms/step - loss: 10044321.0000\n",
      "Epoch 29/200\n",
      "1/1 [==============================] - 0s 860us/step - loss: 9964895.0000\n",
      "Epoch 30/200\n",
      "1/1 [==============================] - 0s 984us/step - loss: 9880521.0000\n",
      "Epoch 31/200\n",
      "1/1 [==============================] - 0s 863us/step - loss: 9791205.0000\n",
      "Epoch 32/200\n",
      "1/1 [==============================] - 0s 845us/step - loss: 9696971.0000\n",
      "Epoch 33/200\n",
      "1/1 [==============================] - 0s 951us/step - loss: 9597802.0000\n",
      "Epoch 34/200\n",
      "1/1 [==============================] - 0s 847us/step - loss: 9493662.0000\n",
      "Epoch 35/200\n",
      "1/1 [==============================] - 0s 951us/step - loss: 9384502.0000\n",
      "Epoch 36/200\n",
      "1/1 [==============================] - 0s 895us/step - loss: 9270230.0000\n",
      "Epoch 37/200\n",
      "1/1 [==============================] - 0s 844us/step - loss: 9150762.0000\n",
      "Epoch 38/200\n",
      "1/1 [==============================] - 0s 947us/step - loss: 9025976.0000\n",
      "Epoch 39/200\n",
      "1/1 [==============================] - 0s 830us/step - loss: 8895773.0000\n",
      "Epoch 40/200\n",
      "1/1 [==============================] - 0s 978us/step - loss: 8760061.0000\n",
      "Epoch 41/200\n",
      "1/1 [==============================] - 0s 872us/step - loss: 8618766.0000\n",
      "Epoch 42/200\n",
      "1/1 [==============================] - 0s 787us/step - loss: 8471893.0000\n",
      "Epoch 43/200\n",
      "1/1 [==============================] - 0s 980us/step - loss: 8319463.0000\n",
      "Epoch 44/200\n",
      "1/1 [==============================] - 0s 780us/step - loss: 8161606.5000\n",
      "Epoch 45/200\n",
      "1/1 [==============================] - 0s 1ms/step - loss: 7998512.5000\n",
      "Epoch 46/200\n",
      "1/1 [==============================] - 0s 977us/step - loss: 7830449.5000\n",
      "Epoch 47/200\n",
      "1/1 [==============================] - 0s 745us/step - loss: 7657789.0000\n",
      "Epoch 48/200\n",
      "1/1 [==============================] - 0s 785us/step - loss: 7480984.5000\n",
      "Epoch 49/200\n",
      "1/1 [==============================] - 0s 827us/step - loss: 7300554.5000\n",
      "Epoch 50/200\n",
      "1/1 [==============================] - 0s 738us/step - loss: 7117078.5000\n",
      "Epoch 51/200\n",
      "1/1 [==============================] - 0s 765us/step - loss: 6931187.0000\n",
      "Epoch 52/200\n",
      "1/1 [==============================] - 0s 813us/step - loss: 6743534.5000\n",
      "Epoch 53/200\n",
      "1/1 [==============================] - 0s 837us/step - loss: 6554779.0000\n",
      "Epoch 54/200\n",
      "1/1 [==============================] - 0s 752us/step - loss: 6365552.0000\n",
      "Epoch 55/200\n",
      "1/1 [==============================] - 0s 747us/step - loss: 6176445.0000\n",
      "Epoch 56/200\n",
      "1/1 [==============================] - 0s 755us/step - loss: 5987989.0000\n",
      "Epoch 57/200\n",
      "1/1 [==============================] - 0s 762us/step - loss: 5800627.5000\n",
      "Epoch 58/200\n",
      "1/1 [==============================] - 0s 823us/step - loss: 5614744.5000\n",
      "Epoch 59/200\n",
      "1/1 [==============================] - 0s 753us/step - loss: 5430639.5000\n",
      "Epoch 60/200\n",
      "1/1 [==============================] - 0s 858us/step - loss: 5248531.0000\n",
      "Epoch 61/200\n",
      "1/1 [==============================] - 0s 1ms/step - loss: 5068609.0000\n",
      "Epoch 62/200\n",
      "1/1 [==============================] - 0s 964us/step - loss: 4891005.0000\n",
      "Epoch 63/200\n",
      "1/1 [==============================] - 0s 1ms/step - loss: 4715883.5000\n",
      "Epoch 64/200\n",
      "1/1 [==============================] - 0s 767us/step - loss: 4543358.5000\n",
      "Epoch 65/200\n",
      "1/1 [==============================] - 0s 1ms/step - loss: 4373611.5000\n",
      "Epoch 66/200\n",
      "1/1 [==============================] - 0s 815us/step - loss: 4206810.5000\n",
      "Epoch 67/200\n",
      "1/1 [==============================] - 0s 935us/step - loss: 4043186.7500\n",
      "Epoch 68/200\n",
      "1/1 [==============================] - 0s 886us/step - loss: 3882941.2500\n",
      "Epoch 69/200\n",
      "1/1 [==============================] - 0s 792us/step - loss: 3726300.5000\n",
      "Epoch 70/200\n",
      "1/1 [==============================] - 0s 932us/step - loss: 3573480.7500\n",
      "Epoch 71/200\n",
      "1/1 [==============================] - 0s 827us/step - loss: 3424666.5000\n",
      "Epoch 72/200\n",
      "1/1 [==============================] - 0s 759us/step - loss: 3280014.5000\n",
      "Epoch 73/200\n",
      "1/1 [==============================] - 0s 814us/step - loss: 3139648.0000\n",
      "Epoch 74/200\n",
      "1/1 [==============================] - 0s 744us/step - loss: 3003652.2500\n",
      "Epoch 75/200\n",
      "1/1 [==============================] - 0s 1ms/step - loss: 2872069.2500\n",
      "Epoch 76/200\n",
      "1/1 [==============================] - 0s 745us/step - loss: 2744917.0000\n",
      "Epoch 77/200\n",
      "1/1 [==============================] - 0s 877us/step - loss: 2622171.5000\n",
      "Epoch 78/200\n",
      "1/1 [==============================] - 0s 922us/step - loss: 2503792.5000\n",
      "Epoch 79/200\n",
      "1/1 [==============================] - 0s 841us/step - loss: 2389719.5000\n",
      "Epoch 80/200\n",
      "1/1 [==============================] - 0s 741us/step - loss: 2279890.5000\n",
      "Epoch 81/200\n",
      "1/1 [==============================] - 0s 855us/step - loss: 2174226.2500\n",
      "Epoch 82/200\n",
      "1/1 [==============================] - 0s 757us/step - loss: 2072647.6250\n",
      "Epoch 83/200\n",
      "1/1 [==============================] - 0s 839us/step - loss: 1975074.2500\n",
      "Epoch 84/200\n",
      "1/1 [==============================] - 0s 722us/step - loss: 1881424.1250\n",
      "Epoch 85/200\n",
      "1/1 [==============================] - 0s 743us/step - loss: 1791609.8750\n",
      "Epoch 86/200\n",
      "1/1 [==============================] - 0s 795us/step - loss: 1705553.1250\n",
      "Epoch 87/200\n",
      "1/1 [==============================] - 0s 760us/step - loss: 1623153.8750\n",
      "Epoch 88/200\n",
      "1/1 [==============================] - 0s 803us/step - loss: 1544332.1250\n",
      "Epoch 89/200\n",
      "1/1 [==============================] - 0s 888us/step - loss: 1468982.2500\n",
      "Epoch 90/200\n",
      "1/1 [==============================] - 0s 781us/step - loss: 1397001.3750\n",
      "Epoch 91/200\n",
      "1/1 [==============================] - 0s 800us/step - loss: 1328295.1250\n",
      "Epoch 92/200\n",
      "1/1 [==============================] - 0s 809us/step - loss: 1262742.6250\n",
      "Epoch 93/200\n",
      "1/1 [==============================] - 0s 1ms/step - loss: 1200242.3750\n",
      "Epoch 94/200\n",
      "1/1 [==============================] - 0s 866us/step - loss: 1140668.2500\n",
      "Epoch 95/200\n"
     ]
    },
    {
     "name": "stdout",
     "output_type": "stream",
     "text": [
      "1/1 [==============================] - 0s 799us/step - loss: 1083919.3750\n",
      "Epoch 96/200\n",
      "1/1 [==============================] - 0s 938us/step - loss: 1029872.5625\n",
      "Epoch 97/200\n",
      "1/1 [==============================] - 0s 974us/step - loss: 978427.3125\n",
      "Epoch 98/200\n",
      "1/1 [==============================] - 0s 796us/step - loss: 929468.0000\n",
      "Epoch 99/200\n",
      "1/1 [==============================] - 0s 793us/step - loss: 882894.8125\n",
      "Epoch 100/200\n",
      "1/1 [==============================] - 0s 927us/step - loss: 838604.2500\n",
      "Epoch 101/200\n",
      "1/1 [==============================] - 0s 814us/step - loss: 796499.9375\n",
      "Epoch 102/200\n",
      "1/1 [==============================] - 0s 885us/step - loss: 756490.3750\n",
      "Epoch 103/200\n",
      "1/1 [==============================] - 0s 864us/step - loss: 718481.4375\n",
      "Epoch 104/200\n",
      "1/1 [==============================] - 0s 1ms/step - loss: 682387.1250\n",
      "Epoch 105/200\n",
      "1/1 [==============================] - 0s 848us/step - loss: 648128.1875\n",
      "Epoch 106/200\n",
      "1/1 [==============================] - 0s 883us/step - loss: 615619.0625\n",
      "Epoch 107/200\n",
      "1/1 [==============================] - 0s 783us/step - loss: 584774.3125\n",
      "Epoch 108/200\n",
      "1/1 [==============================] - 0s 786us/step - loss: 555528.6250\n",
      "Epoch 109/200\n",
      "1/1 [==============================] - 0s 757us/step - loss: 527798.1250\n",
      "Epoch 110/200\n",
      "1/1 [==============================] - 0s 837us/step - loss: 501516.6250\n",
      "Epoch 111/200\n",
      "1/1 [==============================] - 0s 749us/step - loss: 476609.3750\n",
      "Epoch 112/200\n",
      "1/1 [==============================] - 0s 820us/step - loss: 453016.1250\n",
      "Epoch 113/200\n",
      "1/1 [==============================] - 0s 765us/step - loss: 430664.7812\n",
      "Epoch 114/200\n",
      "1/1 [==============================] - 0s 823us/step - loss: 409496.7812\n",
      "Epoch 115/200\n",
      "1/1 [==============================] - 0s 776us/step - loss: 389453.0000\n",
      "Epoch 116/200\n",
      "1/1 [==============================] - 0s 779us/step - loss: 370475.0625\n",
      "Epoch 117/200\n",
      "1/1 [==============================] - 0s 774us/step - loss: 352510.5312\n",
      "Epoch 118/200\n",
      "1/1 [==============================] - 0s 901us/step - loss: 335506.3750\n",
      "Epoch 119/200\n",
      "1/1 [==============================] - 0s 995us/step - loss: 319414.5938\n",
      "Epoch 120/200\n",
      "1/1 [==============================] - 0s 834us/step - loss: 304186.1250\n",
      "Epoch 121/200\n",
      "1/1 [==============================] - 0s 829us/step - loss: 289782.1562\n",
      "Epoch 122/200\n",
      "1/1 [==============================] - 0s 830us/step - loss: 276154.7812\n",
      "Epoch 123/200\n",
      "1/1 [==============================] - 0s 830us/step - loss: 263264.6250\n",
      "Epoch 124/200\n",
      "1/1 [==============================] - 0s 821us/step - loss: 251074.1094\n",
      "Epoch 125/200\n",
      "1/1 [==============================] - 0s 812us/step - loss: 239546.7500\n",
      "Epoch 126/200\n",
      "1/1 [==============================] - 0s 824us/step - loss: 228648.5000\n",
      "Epoch 127/200\n",
      "1/1 [==============================] - 0s 821us/step - loss: 218345.0156\n",
      "Epoch 128/200\n",
      "1/1 [==============================] - 0s 824us/step - loss: 208606.0625\n",
      "Epoch 129/200\n",
      "1/1 [==============================] - 0s 751us/step - loss: 199399.4375\n",
      "Epoch 130/200\n",
      "1/1 [==============================] - 0s 854us/step - loss: 190698.0156\n",
      "Epoch 131/200\n",
      "1/1 [==============================] - 0s 792us/step - loss: 182474.7031\n",
      "Epoch 132/200\n",
      "1/1 [==============================] - 0s 829us/step - loss: 174703.8438\n",
      "Epoch 133/200\n",
      "1/1 [==============================] - 0s 823us/step - loss: 167360.8594\n",
      "Epoch 134/200\n",
      "1/1 [==============================] - 0s 827us/step - loss: 160422.9219\n",
      "Epoch 135/200\n",
      "1/1 [==============================] - 0s 842us/step - loss: 153866.8750\n",
      "Epoch 136/200\n",
      "1/1 [==============================] - 0s 812us/step - loss: 147675.1406\n",
      "Epoch 137/200\n",
      "1/1 [==============================] - 0s 799us/step - loss: 141824.4688\n",
      "Epoch 138/200\n",
      "1/1 [==============================] - 0s 831us/step - loss: 136298.6094\n",
      "Epoch 139/200\n",
      "1/1 [==============================] - 0s 835us/step - loss: 131079.3594\n",
      "Epoch 140/200\n",
      "1/1 [==============================] - 0s 771us/step - loss: 126150.7656\n",
      "Epoch 141/200\n",
      "1/1 [==============================] - 0s 811us/step - loss: 121496.9297\n",
      "Epoch 142/200\n",
      "1/1 [==============================] - 0s 764us/step - loss: 117102.5547\n",
      "Epoch 143/200\n",
      "1/1 [==============================] - 0s 817us/step - loss: 112953.0703\n",
      "Epoch 144/200\n",
      "1/1 [==============================] - 0s 775us/step - loss: 109035.0469\n",
      "Epoch 145/200\n",
      "1/1 [==============================] - 0s 755us/step - loss: 105337.7188\n",
      "Epoch 146/200\n",
      "1/1 [==============================] - 0s 800us/step - loss: 101846.8203\n",
      "Epoch 147/200\n",
      "1/1 [==============================] - 0s 819us/step - loss: 98552.4141\n",
      "Epoch 148/200\n",
      "1/1 [==============================] - 0s 736us/step - loss: 95442.9531\n",
      "Epoch 149/200\n",
      "1/1 [==============================] - 0s 737us/step - loss: 92508.2188\n",
      "Epoch 150/200\n",
      "1/1 [==============================] - 0s 877us/step - loss: 89740.2500\n",
      "Epoch 151/200\n",
      "1/1 [==============================] - 0s 702us/step - loss: 87127.9844\n",
      "Epoch 152/200\n",
      "1/1 [==============================] - 0s 710us/step - loss: 84662.6250\n",
      "Epoch 153/200\n",
      "1/1 [==============================] - 0s 693us/step - loss: 82337.3828\n",
      "Epoch 154/200\n",
      "1/1 [==============================] - 0s 970us/step - loss: 80144.5469\n",
      "Epoch 155/200\n",
      "1/1 [==============================] - 0s 694us/step - loss: 78076.1016\n",
      "Epoch 156/200\n",
      "1/1 [==============================] - 0s 833us/step - loss: 76124.8984\n",
      "Epoch 157/200\n",
      "1/1 [==============================] - 0s 851us/step - loss: 74285.3906\n",
      "Epoch 158/200\n",
      "1/1 [==============================] - 0s 838us/step - loss: 72550.8359\n",
      "Epoch 159/200\n",
      "1/1 [==============================] - 0s 1ms/step - loss: 70915.2188\n",
      "Epoch 160/200\n",
      "1/1 [==============================] - 0s 945us/step - loss: 69373.9609\n",
      "Epoch 161/200\n",
      "1/1 [==============================] - 0s 938us/step - loss: 67920.0000\n",
      "Epoch 162/200\n",
      "1/1 [==============================] - 0s 694us/step - loss: 66550.5938\n",
      "Epoch 163/200\n",
      "1/1 [==============================] - 0s 807us/step - loss: 65259.9570\n",
      "Epoch 164/200\n",
      "1/1 [==============================] - 0s 905us/step - loss: 64043.2266\n",
      "Epoch 165/200\n",
      "1/1 [==============================] - 0s 775us/step - loss: 62897.0781\n",
      "Epoch 166/200\n",
      "1/1 [==============================] - 0s 953us/step - loss: 61817.3750\n",
      "Epoch 167/200\n",
      "1/1 [==============================] - 0s 1ms/step - loss: 60800.5117\n",
      "Epoch 168/200\n",
      "1/1 [==============================] - 0s 1ms/step - loss: 59842.7695\n",
      "Epoch 169/200\n",
      "1/1 [==============================] - 0s 1ms/step - loss: 58940.7891\n",
      "Epoch 170/200\n",
      "1/1 [==============================] - 0s 2ms/step - loss: 58091.3828\n",
      "Epoch 171/200\n",
      "1/1 [==============================] - 0s 796us/step - loss: 57292.0898\n",
      "Epoch 172/200\n",
      "1/1 [==============================] - 0s 1ms/step - loss: 56539.1992\n",
      "Epoch 173/200\n",
      "1/1 [==============================] - 0s 875us/step - loss: 55830.5859\n",
      "Epoch 174/200\n",
      "1/1 [==============================] - 0s 971us/step - loss: 55163.8672\n",
      "Epoch 175/200\n",
      "1/1 [==============================] - 0s 1ms/step - loss: 54536.6875\n",
      "Epoch 176/200\n",
      "1/1 [==============================] - 0s 1ms/step - loss: 53946.0312\n",
      "Epoch 177/200\n",
      "1/1 [==============================] - 0s 759us/step - loss: 53391.0273\n",
      "Epoch 178/200\n",
      "1/1 [==============================] - 0s 743us/step - loss: 52868.7969\n",
      "Epoch 179/200\n",
      "1/1 [==============================] - 0s 914us/step - loss: 52377.6172\n",
      "Epoch 180/200\n",
      "1/1 [==============================] - 0s 854us/step - loss: 51916.1836\n",
      "Epoch 181/200\n",
      "1/1 [==============================] - 0s 1ms/step - loss: 51481.7266\n",
      "Epoch 182/200\n",
      "1/1 [==============================] - 0s 740us/step - loss: 51074.1680\n",
      "Epoch 183/200\n",
      "1/1 [==============================] - 0s 1ms/step - loss: 50690.6172\n",
      "Epoch 184/200\n",
      "1/1 [==============================] - 0s 936us/step - loss: 50330.4844\n",
      "Epoch 185/200\n",
      "1/1 [==============================] - 0s 763us/step - loss: 49992.0117\n",
      "Epoch 186/200\n",
      "1/1 [==============================] - 0s 1ms/step - loss: 49674.0547\n",
      "Epoch 187/200\n",
      "1/1 [==============================] - 0s 2ms/step - loss: 49375.5352\n",
      "Epoch 188/200\n",
      "1/1 [==============================] - 0s 1ms/step - loss: 49095.1875\n",
      "Epoch 189/200\n",
      "1/1 [==============================] - 0s 1ms/step - loss: 48831.9492\n",
      "Epoch 190/200\n"
     ]
    },
    {
     "name": "stdout",
     "output_type": "stream",
     "text": [
      "1/1 [==============================] - 0s 1ms/step - loss: 48584.9336\n",
      "Epoch 191/200\n",
      "1/1 [==============================] - 0s 788us/step - loss: 48353.1875\n",
      "Epoch 192/200\n",
      "1/1 [==============================] - 0s 943us/step - loss: 48135.7305\n",
      "Epoch 193/200\n",
      "1/1 [==============================] - 0s 969us/step - loss: 47931.6641\n",
      "Epoch 194/200\n",
      "1/1 [==============================] - 0s 1ms/step - loss: 47740.1797\n",
      "Epoch 195/200\n",
      "1/1 [==============================] - 0s 1ms/step - loss: 47560.8594\n",
      "Epoch 196/200\n",
      "1/1 [==============================] - 0s 898us/step - loss: 47392.6328\n",
      "Epoch 197/200\n",
      "1/1 [==============================] - 0s 838us/step - loss: 47234.9336\n",
      "Epoch 198/200\n",
      "1/1 [==============================] - 0s 953us/step - loss: 47087.1289\n",
      "Epoch 199/200\n",
      "1/1 [==============================] - 0s 1ms/step - loss: 46948.7930\n",
      "Epoch 200/200\n",
      "1/1 [==============================] - 0s 895us/step - loss: 46819.0312\n"
     ]
    },
    {
     "data": {
      "text/plain": [
       "<tensorflow.python.keras.callbacks.History at 0x14ac1d1f0>"
      ]
     },
     "execution_count": 16,
     "metadata": {},
     "output_type": "execute_result"
    }
   ],
   "source": [
    "model.fit(prior, prior, epochs=200, batch_size=2, shuffle=False)"
   ]
  },
  {
   "cell_type": "code",
   "execution_count": 17,
   "metadata": {},
   "outputs": [
    {
     "data": {
      "text/plain": [
       "<tf.Tensor: shape=(1, 1), dtype=float32, numpy=array([[0.00155887]], dtype=float32)>"
      ]
     },
     "execution_count": 17,
     "metadata": {},
     "output_type": "execute_result"
    }
   ],
   "source": [
    "tf.transpose(model.weights[0]-prior) @ B_inv @ (model.weights[0]-prior)"
   ]
  },
  {
   "cell_type": "code",
   "execution_count": 18,
   "metadata": {},
   "outputs": [
    {
     "data": {
      "text/plain": [
       "<tf.Variable 'Variable:0' shape=(2, 1) dtype=float32, numpy=\n",
       "array([[0.33945936],\n",
       "       [0.0986479 ]], dtype=float32)>"
      ]
     },
     "execution_count": 18,
     "metadata": {},
     "output_type": "execute_result"
    }
   ],
   "source": [
    "model.weights[0]"
   ]
  },
  {
   "cell_type": "markdown",
   "metadata": {
    "id": "NEDJBrBShVeS"
   },
   "source": [
    "## Plotting"
   ]
  },
  {
   "cell_type": "code",
   "execution_count": 19,
   "metadata": {
    "colab": {
     "base_uri": "https://localhost:8080/",
     "height": 283
    },
    "id": "QZ8onHV8hVeU",
    "outputId": "34033b88-315d-4b74-d338-16d392c5e432",
    "scrolled": false
   },
   "outputs": [
    {
     "data": {
      "text/plain": [
       "<matplotlib.collections.PathCollection at 0x1514fb460>"
      ]
     },
     "execution_count": 19,
     "metadata": {},
     "output_type": "execute_result"
    },
    {
     "data": {
      "image/png": "[encoded data removed]",
      "text/plain": [
       "<Figure size 432x288 with 1 Axes>"
      ]
     },
     "metadata": {
      "needs_background": "light"
     },
     "output_type": "display_data"
    }
   ],
   "source": [
    "fig, ax = plt.subplots()\n",
    "ax.plot(t, tf.squeeze(model_x(prior, horizon=days)))\n",
    "ax.plot(t, tf.squeeze(model_x(model.weights[0], horizon=days)), color='r')\n",
    "ax.plot(t, tf.squeeze(raw), color='g')\n",
    "ax.scatter(t[:70], tf.squeeze(y))"
   ]
  },
  {
   "cell_type": "markdown",
   "metadata": {
    "id": "SMAoZ4BmhVer"
   },
   "source": [
    "### Task 3: Perform epidemic prediction, find params that won't exceed health system capacity"
   ]
  },
  {
   "cell_type": "code",
   "execution_count": 20,
   "metadata": {
    "colab": {
     "base_uri": "https://localhost:8080/",
     "height": 283
    },
    "id": "SA1MqkNlhVet",
    "outputId": "1ea57282-96cf-47d9-8569-8c2741b033e8",
    "scrolled": false
   },
   "outputs": [
    {
     "data": {
      "text/plain": [
       "[<matplotlib.lines.Line2D at 0x14abbb130>]"
      ]
     },
     "execution_count": 20,
     "metadata": {},
     "output_type": "execute_result"
    },
    {
     "data": {
      "image/png": "[encoded data removed]",
      "text/plain": [
       "<Figure size 432x288 with 1 Axes>"
      ]
     },
     "metadata": {
      "needs_background": "light"
     },
     "output_type": "display_data"
    }
   ],
   "source": [
    "fig, ax = plt.subplots()\n",
    "health_sys_cap = 600\n",
    "ax.plot(t, tf.squeeze(model_x(model.weights[0], horizon=days)), color='r')\n",
    "ax.plot(t, [health_sys_cap for _ in t], '--k')"
   ]
  },
  {
   "cell_type": "code",
   "execution_count": 21,
   "metadata": {
    "id": "5t6_w0-WhVe4",
    "outputId": "89dcdbd0-7e22-4a1d-ad03-b45231ce5a8d"
   },
   "outputs": [
    {
     "data": {
      "text/plain": [
       "Ellipsis"
      ]
     },
     "execution_count": 21,
     "metadata": {},
     "output_type": "execute_result"
    }
   ],
   "source": [
    "..."
   ]
  },
  {
   "cell_type": "markdown",
   "metadata": {
    "id": "hH-PyRtkhVfH"
   },
   "source": [
    "### Task 4: Considering lockdown level for that time estimate restrictions beta value, propose 3 other lockdown methods and assume their beta level (e.g. curfew)"
   ]
  },
  {
   "cell_type": "code",
   "execution_count": 22,
   "metadata": {
    "id": "A7qVIEk3hVfJ",
    "outputId": "233e2b04-6ed9-495d-ee7c-7433ed6d00cd"
   },
   "outputs": [
    {
     "data": {
      "text/plain": [
       "Ellipsis"
      ]
     },
     "execution_count": 22,
     "metadata": {},
     "output_type": "execute_result"
    }
   ],
   "source": [
    "..."
   ]
  }
 ],
 "metadata": {
  "accelerator": "GPU",
  "colab": {
   "name": "Lab-part-2.ipynb",
   "provenance": [],
   "toc_visible": true
  },
  "kernelspec": {
   "display_name": "Python 3",
   "language": "python",
   "name": "python3"
  },
  "language_info": {
   "codemirror_mode": {
    "name": "ipython",
    "version": 3
   },
   "file_extension": ".py",
   "mimetype": "text/x-python",
   "name": "python",
   "nbconvert_exporter": "python",
   "pygments_lexer": "ipython3",
   "version": "3.8.5"
  }
 },
 "nbformat": 4,
 "nbformat_minor": 1
}
